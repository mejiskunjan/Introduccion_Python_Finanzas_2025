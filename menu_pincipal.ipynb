{
  "cells": [
    {
      "cell_type": "markdown",
      "metadata": {
        "id": "view-in-github",
        "colab_type": "text"
      },
      "source": [
        "<a href=\"https://colab.research.google.com/github/alfonso-santos/Introduccion-a-Python-para-las-Finanzas-2024/blob/main/menu_pincipal.ipynb\" target=\"_parent\"><img src=\"https://colab.research.google.com/assets/colab-badge.svg\" alt=\"Open In Colab\"/></a>"
      ]
    },
    {
      "cell_type": "markdown",
      "metadata": {
        "id": "HcNzzzPrGGwV"
      },
      "source": [
        "# Introducción a Python para las Finanzas 4ª Edición.\n",
        "\n",
        "<center>\n",
        "    <div style=\"display: flex; justify-content: center; align-items: center;\">\n",
        "        <img src=\"/workspace/imgs/UAM-Logo.png\" alt=\"UAM Logo\" width=\"500\"/>\n",
        "        <img src=\"/workspace/imgs/python-logo.png\" alt=\"Python Logo\" width=\"400\"/>\n",
        "    </div>\n",
        "</center>\n"
      ]
    },
    {
      "cell_type": "markdown",
      "metadata": {
        "id": "GmRueTn5GGwX"
      },
      "source": [
        "## Introducción\n",
        "La tecnología ha revolucionado las finanzas, introduciendo automatización y análisis de datos a gran escala. Python se ha convertido en una herramienta esencial para estas tareas por su simplicidad y potencia.\n",
        "\n",
        "## ¿Por Qué Este Curso?\n",
        "Este curso responde a la creciente demanda de profesionales que dominen Python para tareas como análisis cuantitativo y automatización financiera. Aprender Python permitirá a los estudiantes adaptarse a las exigencias del sector financiero actual."
      ]
    },
    {
      "cell_type": "markdown",
      "metadata": {
        "id": "DbGzuStSGGwX"
      },
      "source": [
        "<center>\n",
        "          <img src=\"https://github.com/alfonso-santos/Introduccion-a-Python-para-las-Finanzas-2024/blob/main/imgs/porque_curso.PNG?raw=1\" alt=\"Por qué curso\" width=\"800\"/>\n",
        "</center>"
      ]
    },
    {
      "cell_type": "markdown",
      "metadata": {
        "id": "RI465MgJGGwX"
      },
      "source": [
        "## ¿Cómo Lo Hacemos?\n",
        "Enseñamos a los estudiantes de economía y finanzas a incorporar Python en su trabajo, usando ejemplos prácticos para mejorar análisis, automatizar procesos, y tomar decisiones más informadas."
      ]
    },
    {
      "cell_type": "markdown",
      "metadata": {
        "id": "L3i3WTdTGGwX"
      },
      "source": [
        "<center>\n",
        "          <img src=\"https://github.com/alfonso-santos/Introduccion-a-Python-para-las-Finanzas-2024/blob/main/imgs/te_ofrecemos.PNG?raw=1\" alt=\"Por qué curso\" width=\"800\"/>\n",
        "</center>"
      ]
    },
    {
      "cell_type": "markdown",
      "metadata": {
        "id": "E8nfKULOGGwY"
      },
      "source": [
        "## ¿Qué Enseñamos?\n",
        "Partimos desde cero con los conceptos básicos de Python y rápidamente avanzamos hacia problemas financieros como el análisis de activos y la generación de carteras, mostrando cómo resolverlos de manera efectiva con Python."
      ]
    },
    {
      "cell_type": "markdown",
      "metadata": {
        "id": "NsUjOJ2TGGwY"
      },
      "source": [
        "<center>\n",
        "          <img src=\"https://github.com/alfonso-santos/Introduccion-a-Python-para-las-Finanzas-2024/blob/main/imgs/intro_python.PNG?raw=1\" alt=\"Por qué curso\" width=\"800\"/>\n",
        "</center>"
      ]
    },
    {
      "cell_type": "markdown",
      "metadata": {
        "id": "q-skwBsMGGwY"
      },
      "source": [
        "<div style=\"background-color: #e0f7df; padding: 10px;\">\n",
        "\n",
        "**PROFESORES:**\n",
        "\n",
        "- [Pedro Ventura](https://www.linkedin.com/in/pedro-ram%C3%B3n-ventura-g%C3%B3mez-277b113b/). Director TI de March Asset Management y Profesor en el Master de IA aplicado a los Mercados Financieros del Instituto  BME\n",
        "\n",
        "- **Gonzalo**: Estudiante de cuarto de Ingeniería informática. UAM\n",
        "\n",
        "- [Fernando Úbeda](https://www.uam.es/Economicas/%C3%9Abeda-Mellina,-Fernando/1234888497623.htm?language=es&pid=1234888496695&title=?beda%20Mellina,%20Fernando). Profesor Titular Dpto Financiación e Investigación Comercial. Facultad Económicas y Empresariales. Universidad Autónoma de Madrid.\n",
        "\n",
        "- [Alfonso Santos](https://www.uam.es/Economicas/santos-ramon-alfonso/1242667903456.htm?language=es&pid=1242653687745&title=Santos%20Ram?n%20Alfonso). Profesor Asociado Dpto Financiación e Investigación Comercial. Facultad Económicas y Empresariales. Universidad Autónoma de Madrid. Master de IA aplicado a los Mercados Financieros del Instituto  BME\n",
        "\n",
        "</div>"
      ]
    },
    {
      "cell_type": "markdown",
      "metadata": {
        "id": "Ig7CwQhYGGwY"
      },
      "source": [
        "# CONTENIDO"
      ]
    },
    {
      "cell_type": "markdown",
      "metadata": {
        "id": "soGFjp0EGGwY"
      },
      "source": [
        "## Módulo 1: Fundamentos\n",
        "\n",
        "* [1.1](Modulo_01_Fundamentos/src/1_1_Intro.ipynb) Introducción\n",
        "* [1.2](Modulo_01_Fundamentos/src/1_2_google_colab.ipynb) Google Colab\n",
        "* [1.3](Modulo_01_Fundamentos/src/1_3_syntaxis.ipynb) Sintaxis básica\n",
        "* [1.4](Modulo_01_Fundamentos/src/1_4_variables.ipynb) Variables\n",
        "* [1.4.sol](Modulo_01_Fundamentos/src/1_4_variables_sol.ipynb) Variables solución\n",
        "* [1.5](Modulo_01_Fundamentos/src/1_5_operadores.ipynb) Operadores\n",
        "* [1.51](Modulo_01_Fundamentos/src/1_5_operadores_ejercicio.ipynb) Ejercicio operadores\n",
        "* [1.51.sol](Modulo_01_Fundamentos/src/1_51_operadores_ejercicio_sol.ipynb) Solucion 1.51\n",
        "* [1.6](Modulo_01_Fundamentos/src/1_6_listas_y_tuplas.ipynb) Listas y Tuplas\n",
        "* [1.6.sol](Modulo_01_Fundamentos/src/1_6_listas_y_tuplas_sol.ipynb) Listas y Tuplas solución\n",
        "* [1.7](Modulo_01_Fundamentos/src/1_7_diccionarios.ipynb) Diccionarios\n",
        "* [1.7.sol](Modulo_01_Fundamentos/src/1_7_diccionarios_sol.ipynb) Diccionarios solución\n",
        "* [1.8](Modulo_01_Fundamentos/src/1_8_condicionales_y_bucles.ipynb) Condicionales y Bucles\n",
        "* [1.9](Modulo_01_Fundamentos/src/1_9_funciones.ipynb) Funciones\n",
        "\n",
        "\n",
        "* [Anexo](Modulo_01_Fundamentos/src/1_10_instalacion.ipynb) Instalación\n",
        "\n",
        "* [Prueba](Modulo_01_Fundamentos/src/Prueba.ipynb) Prueba\n",
        "\n",
        "* [Ejercicios_repaso](Modulo_01_Fundamentos/src/Ejercicios_examen_lunes_21.ipynb) Ejercicios repaso\n",
        "\n",
        "* [Resumen modulo 1](Modulo_01_Fundamentos/src/Resumen_modulo_01.ipynb) Resumen_modulo_01\n",
        "\n",
        "* [Solucion examen](Modulo_01_Fundamentos/src/Solucion_examen_modulo_01.ipynb) Solucion_examen_modulo_01"
      ]
    },
    {
      "cell_type": "markdown",
      "metadata": {
        "id": "fGYB9GhcGGwY"
      },
      "source": [
        "## Módulo 2: Aplicaciones Financieras\n",
        "\n",
        "* [2.1](Modulo_02_Aplicaciones_Financieras/src/02_01_Descarga_y_descripción_de_activos_financieros.ipynb) Descarga de precios y descripción activos financieros\n",
        "\n",
        "* [Ejercicios 2.1](Modulo_02_Aplicaciones_Financieras/src/Ejercicios_intro_dataframes.ipynb) Ejercicios dataframes con pandas\n",
        "\n",
        "* [2.2](Modulo_02_Aplicaciones_Financieras/src/02_02_Rentabilidades_volatilidades.ipynb) Análisis de rentabilidades y volatilidades de un activo financiero\n",
        "\n",
        "* [2.3](Modulo_02_Aplicaciones_Financieras/src/02_03_Calculos_iniciales_de_carteras.ipynb) Cálculos iniciales de carteras\n",
        "\n",
        "* [2.4](Modulo_02_Aplicaciones_Financieras/src/02_04_Generación_aleatoria_de_carteras.ipynb) Generación aleatoria de carteras\n",
        "\n",
        "* [2.5](Modulo_02_Aplicaciones_Financieras/src/02_04_Estrategias_de_trading_con_medias_móviles.ipynb) Estrategias de trading con medias móviles\n",
        "\n",
        "* [2.6](Modulo_02_Aplicaciones_Financieras/src/02_06_Explicación_de_los_retornos_de_un_activo_en_función_de_otros_activos.ipynb) Explicación de los restornos de un activo en función de otros activos\n",
        "\n",
        "* [Ejercicios repaso](Modulo_02_Aplicaciones_Financieras/src/Ejercicios_preparación_examen.ipynb) Ejercicios repaso\n"
      ]
    },
    {
      "cell_type": "code",
      "source": [],
      "metadata": {
        "id": "IXTODjCPuPk6"
      },
      "execution_count": null,
      "outputs": []
    }
  ],
  "metadata": {
    "kernelspec": {
      "display_name": "Python 3 (ipykernel)",
      "language": "python",
      "name": "python3"
    },
    "language_info": {
      "codemirror_mode": {
        "name": "ipython",
        "version": 3
      },
      "file_extension": ".py",
      "mimetype": "text/x-python",
      "name": "python",
      "nbconvert_exporter": "python",
      "pygments_lexer": "ipython3",
      "version": "3.11.6"
    },
    "vscode": {
      "interpreter": {
        "hash": "18a6b418ca989a304418b74e14b57df096d22507d5bd0d85ac6f17ef362aab2d"
      }
    },
    "colab": {
      "provenance": [],
      "include_colab_link": true
    }
  },
  "nbformat": 4,
  "nbformat_minor": 0
}