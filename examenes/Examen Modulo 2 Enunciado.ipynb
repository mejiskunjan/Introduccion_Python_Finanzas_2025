{
 "cells": [
  {
   "cell_type": "markdown",
   "metadata": {},
   "source": [
    "# Exámen 11/11/2024"
   ]
  },
  {
   "cell_type": "markdown",
   "metadata": {},
   "source": [
    "## Ejercicio 1 (1 punto)\n",
    "\n",
    "**Descarga los precios de cierre ajustado de los siguientes activos entre el 1 de enero de 2020 y el 31 de diciembre de 2023. Guárdalos en un DataFrame llamado `df1`:**\n",
    "\n",
    "* Apple (AAPL)\n",
    "* Tesla (TSLA)\n",
    "* Nvidia (NVDA)\n",
    "* Microsoft (NVDA)\n",
    "* Google (GOOGL)"
   ]
  },
  {
   "cell_type": "code",
   "execution_count": null,
   "metadata": {},
   "outputs": [],
   "source": []
  },
  {
   "cell_type": "markdown",
   "metadata": {},
   "source": [
    "**Descarga los precios de cierre ajustado de los siguientes activos entre el 1 de enero de 2021 y el 31 de diciembre de 2024. Guárdalos en un DataFrame llamado `df2`:**\n",
    "\n",
    "* ACS (ACS.MC)\n",
    "* Ferrovial (FER.MC)\n",
    "* Naturgy (NTGY.MC)\n",
    "* Banco Sabadell (SAB.MC)\n",
    "* Telefónica (TEF.MC)"
   ]
  },
  {
   "cell_type": "code",
   "execution_count": null,
   "metadata": {},
   "outputs": [],
   "source": []
  },
  {
   "cell_type": "markdown",
   "metadata": {},
   "source": [
    "## Ejercicio 2 (1 punto)\n",
    "\n",
    "**Modifica los valores del DataFrame `df1` de modo que los precios de febrero de 2020 sean igual a `NaN` (`None`).**"
   ]
  },
  {
   "cell_type": "code",
   "execution_count": null,
   "metadata": {},
   "outputs": [],
   "source": []
  },
  {
   "cell_type": "markdown",
   "metadata": {},
   "source": [
    "**Grafica el contenido de `df1` para comprobar que los cambios se han realizado correctamente utilizando la librería `missingno`.**"
   ]
  },
  {
   "cell_type": "code",
   "execution_count": null,
   "metadata": {},
   "outputs": [],
   "source": []
  },
  {
   "cell_type": "markdown",
   "metadata": {},
   "source": [
    "**Rellena los valores faltantes en `df1` con la media de cada columna.**"
   ]
  },
  {
   "cell_type": "code",
   "execution_count": null,
   "metadata": {},
   "outputs": [],
   "source": []
  },
  {
   "cell_type": "markdown",
   "metadata": {},
   "source": [
    "## Ejercicio 3 (1 punto)\n",
    "\n",
    "**Concatena los DataFrames `df1` y `df2` en un nuevo DataFrame `data` de modo que tenga todos los activos en columnas (10 columnas) y los precios de cierre ajustado en filas. El nuevo DataFrame solo debe contener aquellas filas en las que las fechas coinciden en ambos DataFrames.**"
   ]
  },
  {
   "cell_type": "code",
   "execution_count": null,
   "metadata": {},
   "outputs": [],
   "source": []
  },
  {
   "cell_type": "markdown",
   "metadata": {},
   "source": [
    "## Ejercicio 4 (1 punto)\n",
    "\n",
    "**Carga el fichero `ejercicio_4.csv` en la variable `data` usando la librería `Pandas`.**"
   ]
  },
  {
   "cell_type": "code",
   "execution_count": 4,
   "metadata": {},
   "outputs": [],
   "source": [
    "file_path ='https://github.com/alfonso-santos/Introduccion-a-Python-para-las-Finanzas-2024/raw/main/examenes/ejercicio_4.csv'\n",
    "\n",
    "\n"
   ]
  },
  {
   "cell_type": "markdown",
   "metadata": {},
   "source": [
    "\n",
    "**Filtra `data` de manera que te quedes solamente con los precios entre junio de 2021 y junio de 2022 de las compañías Apple, Google, Tesla, Ferrovial, Naturgy y Telefónica.**"
   ]
  },
  {
   "cell_type": "code",
   "execution_count": null,
   "metadata": {},
   "outputs": [],
   "source": []
  },
  {
   "cell_type": "markdown",
   "metadata": {},
   "source": [
    "**Haz un gráfico rápido de las series de precios de todos los activos.**"
   ]
  },
  {
   "cell_type": "markdown",
   "metadata": {},
   "source": []
  },
  {
   "cell_type": "code",
   "execution_count": null,
   "metadata": {},
   "outputs": [],
   "source": []
  },
  {
   "cell_type": "markdown",
   "metadata": {},
   "source": [
    "## Ejercicio 5 (1 punto)\n",
    "\n",
    "**Calcula las series de rentabilidades aritméticas de todos los activos de `data` y guárdalas en una variable que se llame `data_rentab_arit`.**"
   ]
  },
  {
   "cell_type": "code",
   "execution_count": null,
   "metadata": {},
   "outputs": [],
   "source": []
  },
  {
   "cell_type": "markdown",
   "metadata": {},
   "source": [
    "**Grafica las series de rentabilidades aritméticas de todos los activos usando `matplotlib`, añadiendo el título, las etiquetas de los ejes, la leyenda y un grid.**"
   ]
  },
  {
   "cell_type": "code",
   "execution_count": null,
   "metadata": {},
   "outputs": [],
   "source": []
  },
  {
   "cell_type": "markdown",
   "metadata": {},
   "source": [
    "## Ejercicio 6 (1 punto)\n",
    "\n",
    "**Calcula las series de rentabilidades logarítmicas de todos los activos de `data` y guárdalas en una variable que se llame `data_rentab_log`. No elimines la primera fila de `NaN`, en cambio, rellénala con el valor 0 (cero).**"
   ]
  },
  {
   "cell_type": "code",
   "execution_count": null,
   "metadata": {},
   "outputs": [],
   "source": []
  },
  {
   "cell_type": "markdown",
   "metadata": {},
   "source": [
    "**Grafica las series de rentabilidades logarítmicas acumuladas de todos los activos usando `matplotlib`, añadiendo el título, las etiquetas de los ejes, la leyenda y un grid.**"
   ]
  },
  {
   "cell_type": "code",
   "execution_count": null,
   "metadata": {},
   "outputs": [],
   "source": []
  },
  {
   "cell_type": "markdown",
   "metadata": {},
   "source": [
    "## Ejercicio 7 (1 punto)\n",
    "\n",
    "**Elimina la primera fila del DataFrame `data_rentab_log` (la que contiene todo ceros) y sobre-escribe el valor de `data_rentab_log`.**\n"
   ]
  },
  {
   "cell_type": "code",
   "execution_count": null,
   "metadata": {},
   "outputs": [],
   "source": []
  },
  {
   "cell_type": "markdown",
   "metadata": {},
   "source": [
    "## Ejercicio 8 (1 punto)\n",
    "\n",
    "**Utilizando `data_rentab_log`, crea una cartera equiponderada de todos los activos y calcula su rentabilidad y volatilidad anualizada.**"
   ]
  },
  {
   "cell_type": "code",
   "execution_count": null,
   "metadata": {},
   "outputs": [],
   "source": []
  },
  {
   "cell_type": "markdown",
   "metadata": {},
   "source": [
    "## Ejercicio 9 (1 punto)\n",
    "\n",
    "**Utilizando `data_rentab_log`, grafica el histograma de las rentabilidades de Google y compáralo con una distribución normal con la misma media y desviación típica que la distribución de Google.**"
   ]
  },
  {
   "cell_type": "code",
   "execution_count": null,
   "metadata": {},
   "outputs": [],
   "source": []
  },
  {
   "cell_type": "markdown",
   "metadata": {},
   "source": [
    "## Ejercicio 10 (1 punto)\n",
    "\n",
    "**Utilizando `data_rentab_log` y solamente las rentabilidades de Tesla y Telefónica, crea 1000 carteras cuyos pesos vayan desde 0% para Tesla y 100% para Telefónica, hasta 100% para Tesla y 0% para Telefónica. Calcula las rentabilidades y volatilidades anualizadas para todas las carteras y grafícalas situando la volatilidad en el eje X y la rentabilidad en el eje Y.**"
   ]
  },
  {
   "cell_type": "code",
   "execution_count": null,
   "metadata": {},
   "outputs": [],
   "source": []
  },
  {
   "cell_type": "markdown",
   "metadata": {},
   "source": [
    "_________________________________________"
   ]
  }
 ],
 "metadata": {
  "kernelspec": {
   "display_name": "Python 3",
   "language": "python",
   "name": "python3"
  },
  "language_info": {
   "codemirror_mode": {
    "name": "ipython",
    "version": 3
   },
   "file_extension": ".py",
   "mimetype": "text/x-python",
   "name": "python",
   "nbconvert_exporter": "python",
   "pygments_lexer": "ipython3",
   "version": "3.11.9"
  }
 },
 "nbformat": 4,
 "nbformat_minor": 2
}
