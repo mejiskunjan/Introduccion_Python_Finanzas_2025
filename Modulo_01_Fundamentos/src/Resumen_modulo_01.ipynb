{
  "nbformat": 4,
  "nbformat_minor": 0,
  "metadata": {
    "colab": {
      "provenance": [],
      "authorship_tag": "ABX9TyN+1sj6rj/4H2YOjS1Vwi50",
      "include_colab_link": true
    },
    "kernelspec": {
      "name": "python3",
      "display_name": "Python 3"
    },
    "language_info": {
      "name": "python"
    }
  },
  "cells": [
    {
      "cell_type": "markdown",
      "metadata": {
        "id": "view-in-github",
        "colab_type": "text"
      },
      "source": [
        "<a href=\"https://colab.research.google.com/github/alfonso-santos/Introduccion-a-Python-para-las-Finanzas-2024/blob/main/Modulo_01_Fundamentos/src/Resumen_modulo_01.ipynb\" target=\"_parent\"><img src=\"https://colab.research.google.com/assets/colab-badge.svg\" alt=\"Open In Colab\"/></a>"
      ]
    },
    {
      "cell_type": "markdown",
      "source": [
        "# Resumen módulo 1"
      ],
      "metadata": {
        "id": "wKuFgUfuTJL3"
      }
    },
    {
      "cell_type": "markdown",
      "source": [
        "## Declaración de variables"
      ],
      "metadata": {
        "id": "iUjz9qO_TPOj"
      }
    },
    {
      "cell_type": "code",
      "execution_count": 8,
      "metadata": {
        "colab": {
          "base_uri": "https://localhost:8080/"
        },
        "id": "l67Jl54cTFcB",
        "outputId": "46a4b3c7-ed6e-419a-fb3e-7da5f7e6f25a"
      },
      "outputs": [
        {
          "output_type": "stream",
          "name": "stdout",
          "text": [
            "Este es el número 5 y es de tipo <class 'int'>\n",
            "Este es el número 5 y es de tipo <class 'str'>\n",
            "Este es el número cinco y es de tipo <class 'str'>\n",
            "Este es el número 6.6 y es de tipo <class 'float'>\n",
            "Este es el número 6.6 y es de tipo <class 'str'>\n",
            "Este es el número seis con seis y es de tipo <class 'str'>\n",
            "\n"
          ]
        }
      ],
      "source": [
        "# Estos son los tipos de variables que más vamos a usar\n",
        "\n",
        "num = 5\n",
        "string_num = \"5\"\n",
        "string_num_palabra = \"cinco\"\n",
        "num_dec = 6.6\n",
        "string_num_dec = \"6.6\"\n",
        "string_num_dec_palabra = \"seis con seis\"\n",
        "\n",
        "print(f\"Este es el número {num} y es de tipo {type(num)}\\n\"\n",
        "      f\"Este es el número {string_num} y es de tipo {type(string_num)}\\n\"\n",
        "      f\"Este es el número {string_num_palabra} y es de tipo {type(string_num_palabra)}\\n\"\n",
        "      f\"Este es el número {num_dec} y es de tipo {type(num_dec)}\\n\"\n",
        "      f\"Este es el número {string_num_dec} y es de tipo {type(string_num_dec)}\\n\"\n",
        "      f\"Este es el número {string_num_dec_palabra} y es de tipo {type(string_num_dec_palabra)}\\n\")"
      ]
    },
    {
      "cell_type": "markdown",
      "source": [
        "## Operadores"
      ],
      "metadata": {
        "id": "m2Pg8XS8UnHo"
      }
    },
    {
      "cell_type": "code",
      "source": [
        "# Vamos a imprimir diferentes tipo de operadores\n",
        "\n",
        "print(f\"Sumar 4 + 3: {4+3}\")\n",
        "print(f\"Restar 5 - 7: {5-7}\")\n",
        "print(f\"Multiplicar 7 * 2: {7*2}\")\n",
        "print(f\"Dividir 16 / 5: {16/3}\")"
      ],
      "metadata": {
        "colab": {
          "base_uri": "https://localhost:8080/"
        },
        "id": "ocupRkhJUWNj",
        "outputId": "442583a1-29eb-434a-865c-4c14736d1c3c"
      },
      "execution_count": 9,
      "outputs": [
        {
          "output_type": "stream",
          "name": "stdout",
          "text": [
            "Sumar 4 + 3: 7\n",
            "Restar 5 - 7: -2\n",
            "Multiplicar 7 * 2: 14\n",
            "Dividir 16 / 5: 5.333333333333333\n"
          ]
        }
      ]
    },
    {
      "cell_type": "markdown",
      "source": [
        "## Tuplas"
      ],
      "metadata": {
        "id": "hV9y0OzGhEYr"
      }
    },
    {
      "cell_type": "markdown",
      "source": [
        "Las tuplas son parecidas a las listas pero son inmutables, NO se pueden cambiar sus elementos"
      ],
      "metadata": {
        "id": "I29xza8FhF6A"
      }
    },
    {
      "cell_type": "code",
      "source": [
        "tupla_vacia = ()\n",
        "tambien_tupla_vacia = tuple()\n",
        "\n",
        "print(tupla_vacia)\n",
        "print(tambien_tupla_vacia)"
      ],
      "metadata": {
        "colab": {
          "base_uri": "https://localhost:8080/"
        },
        "id": "rK2kL3pXhVx2",
        "outputId": "d2527d91-8bf6-4591-eb14-7b9107aaf214"
      },
      "execution_count": 10,
      "outputs": [
        {
          "output_type": "stream",
          "name": "stdout",
          "text": [
            "()\n",
            "()\n"
          ]
        }
      ]
    },
    {
      "cell_type": "code",
      "source": [
        "tupla = (1,2,3,4)\n",
        "print(tupla)"
      ],
      "metadata": {
        "colab": {
          "base_uri": "https://localhost:8080/"
        },
        "id": "xdIGpOF0hgCW",
        "outputId": "39660a0e-1b8f-48c7-99ea-0b152450d67a"
      },
      "execution_count": 11,
      "outputs": [
        {
          "output_type": "stream",
          "name": "stdout",
          "text": [
            "(1, 2, 3, 4)\n"
          ]
        }
      ]
    },
    {
      "cell_type": "code",
      "source": [
        "print(f\"Primer elemento de {tupla}: {tupla[0]}\\n\"\n",
        "      f\"Segundo elemento de {tupla}: {tupla[1]}\\n\")"
      ],
      "metadata": {
        "colab": {
          "base_uri": "https://localhost:8080/"
        },
        "id": "xOTF3lylhmXT",
        "outputId": "7f55cd48-5232-488e-b5c5-cf99f0bfd7e6"
      },
      "execution_count": 12,
      "outputs": [
        {
          "output_type": "stream",
          "name": "stdout",
          "text": [
            "Primer elemento de (1, 2, 3, 4): 1\n",
            "Segundo elemento de (1, 2, 3, 4): 2\n",
            "\n"
          ]
        }
      ]
    },
    {
      "cell_type": "markdown",
      "source": [
        "## Listas"
      ],
      "metadata": {
        "id": "lYqB_tZXVYhf"
      }
    },
    {
      "cell_type": "code",
      "source": [
        "esto_es_una_lista = []\n",
        "esto_tambien_es_una_lista = list()\n",
        "\n",
        "print(esto_es_una_lista)\n",
        "print(esto_tambien_es_una_lista)"
      ],
      "metadata": {
        "colab": {
          "base_uri": "https://localhost:8080/"
        },
        "id": "1gJFZg6QVLb6",
        "outputId": "b66b3e93-4701-4f9f-9297-be134f97eaa1"
      },
      "execution_count": 13,
      "outputs": [
        {
          "output_type": "stream",
          "name": "stdout",
          "text": [
            "[]\n",
            "[]\n"
          ]
        }
      ]
    },
    {
      "cell_type": "markdown",
      "source": [
        "Hemos creado dos listas y las imprime (están vacías)"
      ],
      "metadata": {
        "id": "zThMvmMjV37M"
      }
    },
    {
      "cell_type": "code",
      "source": [
        "lista_con_elementos = [2, 56.3, \"tercer elemento\", True]\n",
        "print(lista_con_elementos)"
      ],
      "metadata": {
        "colab": {
          "base_uri": "https://localhost:8080/"
        },
        "id": "zy960JreV3A5",
        "outputId": "a7239d12-0d58-43d8-a719-efbe5e29378e"
      },
      "execution_count": 14,
      "outputs": [
        {
          "output_type": "stream",
          "name": "stdout",
          "text": [
            "[2, 56.3, 'tercer elemento', True]\n"
          ]
        }
      ]
    },
    {
      "cell_type": "markdown",
      "source": [
        "Hemos creado una lista con elementos y los imprime."
      ],
      "metadata": {
        "id": "cWVkQcKkWL9U"
      }
    },
    {
      "cell_type": "markdown",
      "source": [
        "Las listas tienen índices para acceder a cada elemento.\n",
        "\n",
        "En una lista con 5 elementos los índices irán de 0-4."
      ],
      "metadata": {
        "id": "LifsUFGPWSLM"
      }
    },
    {
      "cell_type": "code",
      "source": [
        "primer_elemento = lista_con_elementos[0]\n",
        "segundo_elemento = lista_con_elementos[1]\n",
        "tercer_elemento = lista_con_elementos[2]\n",
        "ultimo_elemento = lista_con_elementos[-1]\n",
        "\n",
        "print(f\"La lista {lista_con_elementos} tiene los siguientes elementos:\\n\"\n",
        "      f\"Primer elemento: {primer_elemento}\\n\"\n",
        "      f\"Segundo elemento: {segundo_elemento}\\n\"\n",
        "      f\"Tercer elemento: {tercer_elemento}\\n\"\n",
        "      f\"Último elemento: {ultimo_elemento}\\n\"\n",
        "      )"
      ],
      "metadata": {
        "colab": {
          "base_uri": "https://localhost:8080/"
        },
        "id": "4IOl0NuzWLZy",
        "outputId": "92ce78c1-887b-41bd-c558-b31495472045"
      },
      "execution_count": 15,
      "outputs": [
        {
          "output_type": "stream",
          "name": "stdout",
          "text": [
            "La lista [2, 56.3, 'tercer elemento', True] tiene los siguientes elementos:\n",
            "Primer elemento: 2\n",
            "Segundo elemento: 56.3\n",
            "Tercer elemento: tercer elemento\n",
            "Último elemento: True\n",
            "\n"
          ]
        }
      ]
    },
    {
      "cell_type": "markdown",
      "source": [
        "Como podemos ver una lista puede tener cualquier cantidad de elementos y pueden ser de cualquier tipo."
      ],
      "metadata": {
        "id": "dJ8l9JQ8XVbN"
      }
    },
    {
      "cell_type": "markdown",
      "source": [
        "Vamos a crear listas con muchos números."
      ],
      "metadata": {
        "id": "y8KhXr_QXew5"
      }
    },
    {
      "cell_type": "code",
      "source": [
        "lista_de_0_9 = list(range(10))\n",
        "lista_de_6_14 = list(range(6, 15))\n",
        "lista_de_3_25_con_saltos_de_5 = list(range(3, 26, 5))\n",
        "\n",
        "print(f\"Esta lista va de 0 a 9: {lista_de_0_9}\\n\"\n",
        "      f\"Esta lista va de 6 a 14: {lista_de_6_14}\\n\"\n",
        "      f\"Esta lista va de 3 a 25 con saltos de 5: {lista_de_3_25_con_saltos_de_5}\\n\")"
      ],
      "metadata": {
        "colab": {
          "base_uri": "https://localhost:8080/"
        },
        "id": "HUD0m7ngWKrh",
        "outputId": "81574964-3d2b-404f-8841-c29ed75afbe4"
      },
      "execution_count": 16,
      "outputs": [
        {
          "output_type": "stream",
          "name": "stdout",
          "text": [
            "Esta lista va de 0 a 9: [0, 1, 2, 3, 4, 5, 6, 7, 8, 9]\n",
            "Esta lista va de 6 a 14: [6, 7, 8, 9, 10, 11, 12, 13, 14]\n",
            "Esta lista va de 3 a 25 con saltos de 5: [3, 8, 13, 18, 23]\n",
            "\n"
          ]
        }
      ]
    },
    {
      "cell_type": "markdown",
      "source": [
        "¿Cómo seleccionamos una cantidad de elementos de la lista?\n",
        "\n",
        "Slicing."
      ],
      "metadata": {
        "id": "fw2EyfPvYfIa"
      }
    },
    {
      "cell_type": "code",
      "source": [
        "primeros_5_elementos = lista_de_0_9[:5]\n",
        "ultimos_5_elementos = lista_de_0_9[-5:]\n",
        "\n",
        "print(f\"Primeros 5 elementos de lista_de_0_9: {primeros_5_elementos}\")\n",
        "print(f\"Últimos 5 elementos de lista_de_0_9: {ultimos_5_elementos}\")"
      ],
      "metadata": {
        "colab": {
          "base_uri": "https://localhost:8080/"
        },
        "id": "hxZcX5sPYQrM",
        "outputId": "3bdcc646-79ac-4eb3-ab4f-3eb18bfbfe0d"
      },
      "execution_count": 17,
      "outputs": [
        {
          "output_type": "stream",
          "name": "stdout",
          "text": [
            "Primeros 5 elementos de lista_de_0_9: [0, 1, 2, 3, 4]\n",
            "Últimos 5 elementos de lista_de_0_9: [5, 6, 7, 8, 9]\n"
          ]
        }
      ]
    },
    {
      "cell_type": "markdown",
      "source": [
        "Cuando igualamos una variable a una lista ya creada NO CREAMOS una lista nueva.\n",
        "\n",
        "Para copiar una lista en una nueva variable hay que llamar a la función copy()."
      ],
      "metadata": {
        "id": "uHozLyBMZTGe"
      }
    },
    {
      "cell_type": "code",
      "source": [
        "no_es_una_nueva_lista_de_0_9 = lista_de_0_9\n",
        "\n",
        "# Si cambiamos un elemento de \"no_es_una_nueva_lista_de_0_9\"\n",
        "# cambiará tambien en \"lista_de_0_9\"\n",
        "no_es_una_nueva_lista_de_0_9[0] = \"Ves como cambia!!\"\n",
        "\n",
        "print(f\"Ahora podemos ver la liada: {lista_de_0_9}\")"
      ],
      "metadata": {
        "colab": {
          "base_uri": "https://localhost:8080/"
        },
        "id": "BSOm6F8IZPTL",
        "outputId": "4cfad47e-8070-47ab-80cb-8bad38be278f"
      },
      "execution_count": 18,
      "outputs": [
        {
          "output_type": "stream",
          "name": "stdout",
          "text": [
            "Ahora podemos ver la liada: ['Ves como cambia!!', 1, 2, 3, 4, 5, 6, 7, 8, 9]\n"
          ]
        }
      ]
    },
    {
      "cell_type": "code",
      "source": [
        "lista_de_0_9 = list(range(10))\n",
        "esto_si_es_una_nueva_lista_de_0_9 = lista_de_0_9.copy()\n",
        "\n",
        "# Si cambiamos un elemento de \"esto_si_es_una_nueva_lista_de_0_9\"\n",
        "# NO cambiará en \"lista_de_0_9\"\n",
        "esto_si_es_una_nueva_lista_de_0_9[0] = \"Ahora solo cambia el elemento de la nueva lista\"\n",
        "\n",
        "print(f\"Ahora tenemos dos listas distintas:\\n\"\n",
        "      f\"lista de 0 a 9: {lista_de_0_9}\\n\"\n",
        "      f\"Copia real de la lista de 0 a 9 con modificación: \\n{esto_si_es_una_nueva_lista_de_0_9}\")"
      ],
      "metadata": {
        "colab": {
          "base_uri": "https://localhost:8080/"
        },
        "id": "VLlcBaCIaCfN",
        "outputId": "349ff305-aabb-4d6c-854e-305d9c303101"
      },
      "execution_count": 19,
      "outputs": [
        {
          "output_type": "stream",
          "name": "stdout",
          "text": [
            "Ahora tenemos dos listas distintas:\n",
            "lista de 0 a 9: [0, 1, 2, 3, 4, 5, 6, 7, 8, 9]\n",
            "Copia real de la lista de 0 a 9 con modificación: \n",
            "['Ahora solo cambia el elemento de la nueva lista', 1, 2, 3, 4, 5, 6, 7, 8, 9]\n"
          ]
        }
      ]
    },
    {
      "cell_type": "markdown",
      "source": [
        "Añadir elementos a una lista:\n",
        "\n",
        "Si añadimos un elemento y queremos que forme parte de la lista usamos append(), por ejemplo a una lista de acciones añadirle una acción.\n",
        "\n",
        "Sin embargo si queremos unir varias listas y obtener una nueva lista con los elementos de ambas listas necesitamos usar extend()"
      ],
      "metadata": {
        "id": "sy5y-VFravZV"
      }
    },
    {
      "cell_type": "code",
      "source": [
        "lista_0_5 = list(range(6))\n",
        "lista_7_15 = list(range(7,16))\n",
        "\n",
        "# Añadir el elemento 6\n",
        "seis = 6\n",
        "lista_0_5.append(seis)\n",
        "\n",
        "print(f\"Añadimos el {seis} a la lista {lista_0_5} usando append\\n\")"
      ],
      "metadata": {
        "colab": {
          "base_uri": "https://localhost:8080/"
        },
        "id": "Tylz8wuNan5U",
        "outputId": "352ae708-8146-4598-b5ce-cd053a5b70c0"
      },
      "execution_count": 43,
      "outputs": [
        {
          "output_type": "stream",
          "name": "stdout",
          "text": [
            "Añadimos el 6 a la lista [0, 1, 2, 3, 4, 5, 6] usando append\n",
            "\n"
          ]
        }
      ]
    },
    {
      "cell_type": "code",
      "source": [
        "# Juntar las listas elemento a elemento\n",
        "lista_0_5.extend(lista_7_15)\n",
        "print(f\"Añadimos la lista {lista_7_15} \\na la lista {lista_0_5} usando extend\\n\"\n",
        "      f\"queda una nueva lista con todos los elementos.\\n\")"
      ],
      "metadata": {
        "colab": {
          "base_uri": "https://localhost:8080/"
        },
        "id": "2tr-yONSboKi",
        "outputId": "f2089498-4e7c-412c-9b05-7a9e0e95902e"
      },
      "execution_count": 44,
      "outputs": [
        {
          "output_type": "stream",
          "name": "stdout",
          "text": [
            "Añadimos la lista [7, 8, 9, 10, 11, 12, 13, 14, 15] \n",
            "a la lista [0, 1, 2, 3, 4, 5, 6, 7, 8, 9, 10, 11, 12, 13, 14, 15] usando extend\n",
            "queda una nueva lista con todos los elementos.\n",
            "\n"
          ]
        }
      ]
    },
    {
      "cell_type": "code",
      "source": [
        "# Esto sucede si añadimos una lista a otra usando append en vez de extend\n",
        "lista_aux = [423, 412]\n",
        "lista_0_5.append(lista_aux)\n",
        "print(f\"Podemos ver que si usamos append y en los paréntesis metemos una lista \\nse añade como un elemento:\\n\"\n",
        "      f\"{lista_0_5}\\n\")"
      ],
      "metadata": {
        "colab": {
          "base_uri": "https://localhost:8080/"
        },
        "id": "zl0_1sVScvUB",
        "outputId": "39891b4f-dffc-403e-db63-bf44925a72fe"
      },
      "execution_count": 45,
      "outputs": [
        {
          "output_type": "stream",
          "name": "stdout",
          "text": [
            "Podemos ver que si usamos append y en los paréntesis metemos una lista \n",
            "se añade como un elemento:\n",
            "[0, 1, 2, 3, 4, 5, 6, 7, 8, 9, 10, 11, 12, 13, 14, 15, [423, 412]]\n",
            "\n"
          ]
        }
      ]
    },
    {
      "cell_type": "code",
      "source": [
        "print(f\"Y si cogemos el último elemento de la lista 0 a 5 va a ser una lista en sí: {lista_0_5[-1]}\")"
      ],
      "metadata": {
        "colab": {
          "base_uri": "https://localhost:8080/"
        },
        "id": "tFSOlKVWczbc",
        "outputId": "c52be37f-06bc-4f8c-8cc9-d832d86f4b16"
      },
      "execution_count": 23,
      "outputs": [
        {
          "output_type": "stream",
          "name": "stdout",
          "text": [
            "Y si cogemos el último elemento de la lista 0 a 5 va a ser una lista en sí: [423, 412]\n"
          ]
        }
      ]
    },
    {
      "cell_type": "markdown",
      "source": [
        "## Diccionarios"
      ],
      "metadata": {
        "id": "C62ACHJOg0TT"
      }
    },
    {
      "cell_type": "markdown",
      "source": [
        "Un diccionario es una estructura como las listas o las tuplas.\n",
        "\n",
        "Tiene sus propias funciones.\n",
        "\n",
        "Asigna una clave a un valor."
      ],
      "metadata": {
        "id": "MkSo4cPVMpgn"
      }
    },
    {
      "cell_type": "code",
      "source": [
        "diccionario_vacio = {}\n",
        "esto_tambien_es_diccionario_vacio = dict()\n",
        "\n",
        "print(diccionario_vacio)\n",
        "print(esto_tambien_es_diccionario_vacio)"
      ],
      "metadata": {
        "id": "ORNDamYIg20c",
        "colab": {
          "base_uri": "https://localhost:8080/"
        },
        "outputId": "9f486aaf-7be2-46fb-cf3b-64eb48b96149"
      },
      "execution_count": 24,
      "outputs": [
        {
          "output_type": "stream",
          "name": "stdout",
          "text": [
            "{}\n",
            "{}\n"
          ]
        }
      ]
    },
    {
      "cell_type": "markdown",
      "source": [
        "También podemos crear diccionarios con elementos."
      ],
      "metadata": {
        "id": "3xq9gqdCNMZG"
      }
    },
    {
      "cell_type": "code",
      "source": [
        "acciones_ticker_valor = {'ticker1': 34.6,\n",
        "                         'ticker2': 8.02,\n",
        "                         'ticker3': 243.32\n",
        "                         }\n",
        "\n",
        "print(acciones_ticker_valor)"
      ],
      "metadata": {
        "colab": {
          "base_uri": "https://localhost:8080/"
        },
        "id": "_nYai1R0M8hp",
        "outputId": "05f025aa-5232-43e0-9902-5e23a057c5c8"
      },
      "execution_count": 25,
      "outputs": [
        {
          "output_type": "stream",
          "name": "stdout",
          "text": [
            "{'ticker1': 34.6, 'ticker2': 8.02, 'ticker3': 243.32}\n"
          ]
        }
      ]
    },
    {
      "cell_type": "markdown",
      "source": [
        "* Podemos acceder a todo el conjunto de claves del diccionario con la función .keys()\n",
        "* También podemos acceder a todos los valores del diccionario con la función .values()"
      ],
      "metadata": {
        "id": "y-T91s8dNysa"
      }
    },
    {
      "cell_type": "code",
      "source": [
        "claves_diccionario = acciones_ticker_valor.keys()\n",
        "valores_diccionario = acciones_ticker_valor.values()\n",
        "\n",
        "print(f\"Estos son los claves: {claves_diccionario}\")\n",
        "print(f\"Estos son los valores: {valores_diccionario}\")"
      ],
      "metadata": {
        "colab": {
          "base_uri": "https://localhost:8080/"
        },
        "id": "bJXamekbNxXE",
        "outputId": "7260fd83-5ef3-48fd-bbe5-cd60592528f0"
      },
      "execution_count": 26,
      "outputs": [
        {
          "output_type": "stream",
          "name": "stdout",
          "text": [
            "Estos son los claves: dict_keys(['ticker1', 'ticker2', 'ticker3'])\n",
            "Estos son los valores: dict_values([34.6, 8.02, 243.32])\n"
          ]
        }
      ]
    },
    {
      "cell_type": "markdown",
      "source": [
        "* Para acceder a un elemento concreto vamos a usar corchetes [ ] como en las listas.\n",
        "\n",
        "* La gran diferencia es que en la lista introducíamos el índice del elemento que queríamos, pero en los diccionario introducimos la clave del valor que buscamos."
      ],
      "metadata": {
        "id": "e4gS8uVLOrPj"
      }
    },
    {
      "cell_type": "code",
      "source": [
        "valor_ticker1 = acciones_ticker_valor['ticker1']\n",
        "print(valor_ticker1)"
      ],
      "metadata": {
        "colab": {
          "base_uri": "https://localhost:8080/"
        },
        "id": "xddaAn1xOiD0",
        "outputId": "7daf9d7a-5534-4203-ef8c-5e6962783192"
      },
      "execution_count": 27,
      "outputs": [
        {
          "output_type": "stream",
          "name": "stdout",
          "text": [
            "34.6\n"
          ]
        }
      ]
    },
    {
      "cell_type": "markdown",
      "source": [
        "* Por último, si queremos crear diccionarios a partir de listas podemos usar la función $zip()$ y luego crear el diccionario con $dict()$.\n",
        "\n",
        "* La función $zip()$ necesita 2 argumentos. El primero seran las claves y el segundo los valores."
      ],
      "metadata": {
        "id": "THjFySeAPcQL"
      }
    },
    {
      "cell_type": "code",
      "source": [
        "tickers = ['AAPL', 'GOOGL', 'MSFT', 'AMZN', 'TSLA', 'FB', 'NFLX', 'NVDA', 'BABA', 'V']\n",
        "valores = [150, 2800, 290, 3400, 850, 325, 620, 540, 155, 230]\n",
        "\n",
        "zip_listas = zip(tickers, valores) # el primer argumento son las claves y el segundo los valores\n",
        "\n",
        "nuevo_tickers_valor = dict(zip_listas)\n",
        "\n",
        "print(nuevo_tickers_valor)"
      ],
      "metadata": {
        "colab": {
          "base_uri": "https://localhost:8080/"
        },
        "id": "KDwsagrnOvzR",
        "outputId": "c08ca3d7-b2ae-44ba-ba46-af13b00703fc"
      },
      "execution_count": 28,
      "outputs": [
        {
          "output_type": "stream",
          "name": "stdout",
          "text": [
            "{'AAPL': 150, 'GOOGL': 2800, 'MSFT': 290, 'AMZN': 3400, 'TSLA': 850, 'FB': 325, 'NFLX': 620, 'NVDA': 540, 'BABA': 155, 'V': 230}\n"
          ]
        }
      ]
    },
    {
      "cell_type": "markdown",
      "source": [
        "## Condicionales IF"
      ],
      "metadata": {
        "id": "DtJpPz93Q0VQ"
      }
    },
    {
      "cell_type": "markdown",
      "source": [
        "* Los condicionales nos permiten ejecutar unas líneas de código y evitar otras en función de una condición\n",
        "\n",
        "* Son muy importantes los espacios dentro de cada condicional.\n",
        "\n",
        "Vamos con un ejemplo:\n",
        "\n",
        "Después de haber calculado la rentabilidad de una inversión queremos ver si la consideramos buena o mala inversión.\n",
        "\n",
        "Vamos a determinar que es buena inversión si es mayor que 1000."
      ],
      "metadata": {
        "id": "QHAeEHunQ65d"
      }
    },
    {
      "cell_type": "code",
      "source": [
        "rentabilidad = 900\n",
        "objetivo = 1000\n",
        "\n",
        "if rentabilidad > objetivo:\n",
        "  print(\"Es buena inversión\")"
      ],
      "metadata": {
        "id": "wRqy5G1vQc8d"
      },
      "execution_count": 46,
      "outputs": []
    },
    {
      "cell_type": "markdown",
      "source": [
        "Como podemos ver no imprime nada porque, efectivamente, 900 es menor que 1000 por tanto no entra en la condición.\n",
        "\n",
        "Pero ahora queremos decir también en caso de que no sea buena inversión."
      ],
      "metadata": {
        "id": "CcKUIy1SRiSC"
      }
    },
    {
      "cell_type": "code",
      "source": [
        "rentabilidad = 900\n",
        "objetivo = 1000\n",
        "\n",
        "if rentabilidad > objetivo:\n",
        "  print(\"Es buena inversión\")\n",
        "else:\n",
        "  print(\"No es buena inversión\")"
      ],
      "metadata": {
        "colab": {
          "base_uri": "https://localhost:8080/"
        },
        "id": "iXt_EssDRg2q",
        "outputId": "cb183f21-6202-40d1-84ab-2d05036a9d40"
      },
      "execution_count": 30,
      "outputs": [
        {
          "output_type": "stream",
          "name": "stdout",
          "text": [
            "No es buena inversión\n"
          ]
        }
      ]
    },
    {
      "cell_type": "markdown",
      "source": [
        "Ahora vamos a querer comprobar 3 cosas:\n",
        "- Si la rentabilidad es mayor que 1500: muy buena inversión\n",
        "- Si la rentabilidad está entre 1200 y 1500: buena inversión\n",
        "- Si la rentabilidad es menor que 1200: mala inversión\n",
        "\n",
        "Para esto vamos a usar varios \"if\" seguidos (elif)."
      ],
      "metadata": {
        "id": "Bz8KM_4_SAZ7"
      }
    },
    {
      "cell_type": "code",
      "source": [
        "rentabilidad = 2000\n",
        "objetivo_mayor = 1500\n",
        "objetivo_menor = 1200\n",
        "\n",
        "if rentabilidad > objetivo_menor and rentabilidad < objetivo_mayor: #si la rentabilidad es mayor que 1200 y tambien menor que 1500\n",
        "  print(\"Es buena inversión\")\n",
        "elif rentabilidad > 1500: #si la rentabilidad es mayor que 1500\n",
        "  print(\"Es muy buena inversión\")\n",
        "else:\n",
        "  print(\"No es buena inversión\")"
      ],
      "metadata": {
        "colab": {
          "base_uri": "https://localhost:8080/"
        },
        "id": "Hlh_H7SOR0V5",
        "outputId": "841ed019-bbe8-4ec4-fc79-da6d1b62daac"
      },
      "execution_count": 31,
      "outputs": [
        {
          "output_type": "stream",
          "name": "stdout",
          "text": [
            "Es muy buena inversión\n"
          ]
        }
      ]
    },
    {
      "cell_type": "markdown",
      "source": [
        "## Bucles FOR"
      ],
      "metadata": {
        "id": "6HFg0rWxT56I"
      }
    },
    {
      "cell_type": "markdown",
      "source": [
        "Los bucles nos van a permitir recorrer un conjunto de elementos, generalmente del primero al último.\n",
        "\n",
        "Para imaginarlo mejor:\n",
        "* Supón que tienes una lista con 10 números y queremos imprimirlos de uno en uno."
      ],
      "metadata": {
        "id": "13aiWzCbT8qQ"
      }
    },
    {
      "cell_type": "code",
      "source": [
        "lista_0_9 = list(range(10))\n",
        "\n",
        "for numero in lista_0_9:\n",
        "  print(numero)"
      ],
      "metadata": {
        "colab": {
          "base_uri": "https://localhost:8080/"
        },
        "id": "Svw-IjCSS85V",
        "outputId": "30f39943-3414-489c-b8e9-d42a7c6cb85e"
      },
      "execution_count": 32,
      "outputs": [
        {
          "output_type": "stream",
          "name": "stdout",
          "text": [
            "0\n",
            "1\n",
            "2\n",
            "3\n",
            "4\n",
            "5\n",
            "6\n",
            "7\n",
            "8\n",
            "9\n"
          ]
        }
      ]
    },
    {
      "cell_type": "markdown",
      "source": [
        "En este caso vamos a \"entrar\" a mirar en la lista 10 veces. Cada vez que entramos el valor $numero$ se actualiza con el valor del que estemos mirando.\n",
        "\n",
        "La primera vez que entramos, $numero$ vale lo que valga el primer elemento, en este caso 0. Para la segunda vez vale 1, y si seguimos hasta el final, la última vez vale 9.\n",
        "\n",
        "* Aclaración: a la variable número la podemos llamar como queramos, si estamos recorriendo una lista de valores de acciones, lo llamaríamos valor pero podemos llamarlo como queramos."
      ],
      "metadata": {
        "id": "u2XeY0KtUkGY"
      }
    },
    {
      "cell_type": "markdown",
      "source": [
        "Dentro de un bucle también pueden haber condicionales if y se ejecutan tantas veces como veces se ejecute el bucle.\n",
        "\n",
        "Para verlo con un ejemplo, vamos a recorrer una lista de números y vamos a meter los número que sean mayores que 5 en otra lista:"
      ],
      "metadata": {
        "id": "cFCvX_eBVWOy"
      }
    },
    {
      "cell_type": "code",
      "source": [
        "lista_0_9 = list(range(10))\n",
        "mayores_que_5 = []\n",
        "\n",
        "for num in lista_0_9: # recorremos la lista de 0 a 9\n",
        "  if num > 5: # comprobamos si el elemento que estamos mirando es mayor que 5\n",
        "    mayores_que_5.append(num) # si es mayor que 5 lo introducimos en la lista\n",
        "\n",
        "print(mayores_que_5)"
      ],
      "metadata": {
        "colab": {
          "base_uri": "https://localhost:8080/"
        },
        "id": "yR9EaTAYVnvw",
        "outputId": "d3da8106-1e6c-4424-b3aa-81276a4837b2"
      },
      "execution_count": 33,
      "outputs": [
        {
          "output_type": "stream",
          "name": "stdout",
          "text": [
            "[6, 7, 8, 9]\n"
          ]
        }
      ]
    },
    {
      "cell_type": "markdown",
      "source": [
        "## Bucles WHILE"
      ],
      "metadata": {
        "id": "9fCpDSm2cPwd"
      }
    },
    {
      "cell_type": "markdown",
      "source": [
        "Los bucles while son una mezcla entre un for y un if.\n",
        "\n",
        "Se comprueba si se cumple una condición y mientras se cumpla se ejecuta el bucle.\n",
        "\n",
        "Ejemplo: mientras un numero sea menor que 5, lo imprimimos."
      ],
      "metadata": {
        "id": "UWkjKOF2cSGC"
      }
    },
    {
      "cell_type": "code",
      "source": [
        "numero = 0\n",
        "\n",
        "while numero < 5:\n",
        "  print(numero)\n",
        "  numero = numero + 1"
      ],
      "metadata": {
        "colab": {
          "base_uri": "https://localhost:8080/"
        },
        "id": "rYLcxtkJWM5P",
        "outputId": "b86e0d59-7482-4dae-8e8c-4df6c9a99091"
      },
      "execution_count": 34,
      "outputs": [
        {
          "output_type": "stream",
          "name": "stdout",
          "text": [
            "0\n",
            "1\n",
            "2\n",
            "3\n",
            "4\n"
          ]
        }
      ]
    },
    {
      "cell_type": "markdown",
      "source": [
        "* La primera vez comprobamos que numero es menor que 5, como numero vale 0 entramos en el while, imprimimos el numero y después sumamos 1 al número.\n",
        "* La segunda vez número vale 1 y vuelve a entrar en el bucle, imprimir el numero y sumarle 1 otra vez."
      ],
      "metadata": {
        "id": "QzgFPVD2c1mK"
      }
    },
    {
      "cell_type": "markdown",
      "source": [
        "Vamos a poner un ejemplo evaluando la longitud e una lista y extrayendo elementos"
      ],
      "metadata": {
        "id": "q-aqCAVbdLm3"
      }
    },
    {
      "cell_type": "code",
      "source": [
        "lista_0_9 = list(range(10))\n",
        "\n",
        "while len(lista_0_9) > 5:\n",
        "  print(f\"Extraemos el último elemento: {lista_0_9.pop()}\")"
      ],
      "metadata": {
        "colab": {
          "base_uri": "https://localhost:8080/"
        },
        "id": "PE_Mo5BTczi6",
        "outputId": "9a62df5b-414d-4998-9c8e-428a5c0dd152"
      },
      "execution_count": 35,
      "outputs": [
        {
          "output_type": "stream",
          "name": "stdout",
          "text": [
            "Extraemos el último elemento: 9\n",
            "Extraemos el último elemento: 8\n",
            "Extraemos el último elemento: 7\n",
            "Extraemos el último elemento: 6\n",
            "Extraemos el último elemento: 5\n"
          ]
        }
      ]
    },
    {
      "cell_type": "markdown",
      "source": [
        "Cada vez que hacemos lista_0_9.pop() extraemos el último elemento y por tanto la longitud de la lista decrece en 1"
      ],
      "metadata": {
        "id": "ZTfUVw7DdpoM"
      }
    },
    {
      "cell_type": "markdown",
      "source": [
        "## Funciones"
      ],
      "metadata": {
        "id": "SH9I0oGle3jn"
      }
    },
    {
      "cell_type": "markdown",
      "source": [
        "Una función no deja de ser una \"receta\" que, dado unos ingredientes (argumentos), devuelve un resultado.\n",
        "\n",
        "Las funciones se definen y cuando se ejecuta la celda ya se puede usar en el resto del código."
      ],
      "metadata": {
        "id": "ahzbqCXVe5ZJ"
      }
    },
    {
      "cell_type": "code",
      "source": [
        "def sumar(num1, num2):\n",
        "  suma = num1 + num2\n",
        "  return suma"
      ],
      "metadata": {
        "id": "dG-T-aF9fQ8t"
      },
      "execution_count": 36,
      "outputs": []
    },
    {
      "cell_type": "code",
      "source": [
        "llamar_a_sumar_devuelve_la_suma = sumar(4, 6)\n",
        "\n",
        "print(llamar_a_sumar_devuelve_la_suma)"
      ],
      "metadata": {
        "colab": {
          "base_uri": "https://localhost:8080/"
        },
        "id": "170M1GEDdlPD",
        "outputId": "5a32166c-ea96-4d1a-eb50-c73b3e38a8d0"
      },
      "execution_count": 37,
      "outputs": [
        {
          "output_type": "stream",
          "name": "stdout",
          "text": [
            "10\n"
          ]
        }
      ]
    },
    {
      "cell_type": "code",
      "source": [
        "def imprimir_frase(frase):\n",
        "  print(frase)"
      ],
      "metadata": {
        "id": "Lai_lchlfjJN"
      },
      "execution_count": 38,
      "outputs": []
    },
    {
      "cell_type": "code",
      "source": [
        "imprimir_frase(\"Esta frase se la está imprimiendo con la funcion 'imprimir_frase'\")"
      ],
      "metadata": {
        "colab": {
          "base_uri": "https://localhost:8080/"
        },
        "id": "azn3-fE1f45g",
        "outputId": "e9a3a2b1-cb2a-419e-cafb-f1ed8f8d3526"
      },
      "execution_count": 39,
      "outputs": [
        {
          "output_type": "stream",
          "name": "stdout",
          "text": [
            "Esta frase se la está imprimiendo con la funcion 'imprimir_frase'\n"
          ]
        }
      ]
    },
    {
      "cell_type": "code",
      "source": [
        "def comprobar_par(numero):\n",
        "  if numero % 2 == 0: # esto comprueba si el resto de la division entre 2 es 0 o no. Si es 0 es par.\n",
        "    resultado = \"si\"\n",
        "  else:\n",
        "    resultado = \"no\"\n",
        "\n",
        "  return resultado"
      ],
      "metadata": {
        "id": "7ot7M8DmgE1H"
      },
      "execution_count": 40,
      "outputs": []
    },
    {
      "cell_type": "code",
      "source": [
        "for num in range(10):\n",
        "  result = comprobar_par(num)\n",
        "  print(f\"{num} {result} es par\")"
      ],
      "metadata": {
        "colab": {
          "base_uri": "https://localhost:8080/"
        },
        "id": "IEqFvwKdgc7y",
        "outputId": "3d6790c2-be1e-4b82-9ec6-9d0751f1d047"
      },
      "execution_count": 41,
      "outputs": [
        {
          "output_type": "stream",
          "name": "stdout",
          "text": [
            "0 si es par\n",
            "1 no es par\n",
            "2 si es par\n",
            "3 no es par\n",
            "4 si es par\n",
            "5 no es par\n",
            "6 si es par\n",
            "7 no es par\n",
            "8 si es par\n",
            "9 no es par\n"
          ]
        }
      ]
    }
  ]
}