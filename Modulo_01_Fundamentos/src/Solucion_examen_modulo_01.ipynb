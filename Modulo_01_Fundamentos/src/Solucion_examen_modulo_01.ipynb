{
  "cells": [
    {
      "cell_type": "markdown",
      "metadata": {
        "id": "view-in-github",
        "colab_type": "text"
      },
      "source": [
        "<a href=\"https://colab.research.google.com/github/alfonso-santos/Introduccion-a-Python-para-las-Finanzas-2024/blob/main/Modulo_01_Fundamentos/src/Solucion_examen_modulo_01.ipynb\" target=\"_parent\"><img src=\"https://colab.research.google.com/assets/colab-badge.svg\" alt=\"Open In Colab\"/></a>"
      ]
    },
    {
      "cell_type": "markdown",
      "metadata": {
        "id": "cnH59-PcaRpm"
      },
      "source": [
        "# Prueba módulo 01"
      ]
    },
    {
      "cell_type": "markdown",
      "metadata": {
        "id": "oK4YlwJxPyLO"
      },
      "source": [
        "## Contexto:\n",
        "\n",
        "Este curso es una introducción a Python para estudiantes de la facultad de económicas que no tienen experiencia previa en programación. Los alumnos están aprendiendo desde cero y el curso se enfoca en proporcionarles las herramientas básicas de programación aplicadas a las finanzas. Hasta ahora, hemos cubierto los conceptos fundamentales de Python, incluyendo la sintaxis básica, la creación y uso de variables, estructuras de datos como listas, el uso de bucles y la definición de funciones. Los estudiantes han realizado ejercicios prácticos en clase y han tenido la oportunidad de practicar estos conceptos a través de tareas y pequeños proyectos.\n",
        "\n",
        "Descripción específica de este examen:\n",
        "\n",
        "En este primer examen, los estudiantes serán evaluados sobre los conocimientos adquiridos hasta este punto del curso. En particular, se evaluarán los siguientes aspectos:\n",
        "\n",
        "Buen uso de nombres para variables: Se espera que los estudiantes utilicen nombres descriptivos y significativos para las variables, facilitando así la legibilidad y mantenibilidad del código. Por ejemplo, usar precio_producto en lugar de pp.\n",
        "\n",
        "Uso de listas: Los estudiantes deben demostrar comprensión y habilidad para crear, manipular y utilizar listas en sus programas. Esto incluye operaciones como agregar, eliminar y acceder a elementos de una lista.\n",
        "\n",
        "Bucles: Los estudiantes deben mostrar competencia en la utilización de bucles (tanto for como while) para iterar sobre listas y otras estructuras de datos. Deben ser capaces de usar bucles para realizar tareas repetitivas y para procesar datos almacenados en listas.\n",
        "\n",
        "Funciones: Los estudiantes deben ser capaces de definir y utilizar funciones adecuadamente, incluyendo el paso de parámetros y el retorno de valores. Las funciones deben estar correctamente estructuradas y ser utilizadas para evitar la repetición de código y mejorar la modularidad."
      ]
    },
    {
      "cell_type": "markdown",
      "metadata": {
        "id": "ZpPOnvpzPyLP"
      },
      "source": [
        "## APARTADO 1"
      ]
    },
    {
      "cell_type": "markdown",
      "metadata": {
        "id": "yl3_Vct9aUfk"
      },
      "source": [
        "## Ejercicio 1: Datos de Ingresos y Gastos.\n",
        "\n",
        "Tenemos una serie de ingresos mensuales en una empresa: 5000, 5500, 6000, 6500, 7000, 7500, 4000, 3000, 8000, 8500, 9000, 9500.\n",
        "\n",
        "También tenemos los gastos mensuales de esa misma empresa: 3000, 3200, 3500, 3700, 3800, 3900, 2000, 3500, 5000, 4000, 4200, 4300.\n",
        "\n",
        "Suponiendo un saldo inicial de 0:\n",
        "\n",
        "Calcula el saldo mensual (ingresos menos gastos). (1.5 pts)\n",
        "\n"
      ]
    },
    {
      "cell_type": "code",
      "execution_count": 2,
      "metadata": {
        "id": "loqAMcdkaPqI",
        "colab": {
          "base_uri": "https://localhost:8080/"
        },
        "outputId": "c5d47b56-a0f2-4955-bc1c-d6a7f0b6de4a"
      },
      "outputs": [
        {
          "output_type": "stream",
          "name": "stdout",
          "text": [
            "[2000, 2300, 2500, 2800, 3200, 3600, 2000, -500, 3000, 4500, 4800, 5200]\n",
            "[2000, 2300, 2500, 2800, 3200, 3600, 2000, -500, 3000, 4500, 4800, 5200]\n"
          ]
        }
      ],
      "source": [
        "## Solución ejercicio 1\n",
        "ing_men = [5000, 5500, 6000, 6500, 7000, 7500, 4000, 3000, 8000, 8500, 9000, 9500]\n",
        "gast_men = [3000, 3200, 3500, 3700, 3800, 3900, 2000, 3500, 5000, 4000, 4200, 4300]\n",
        "\n",
        "# Manera 1\n",
        "import numpy as np\n",
        "saldo = np.array(ing_men) - np.array(gast_men)\n",
        "saldo = list(saldo) # Cambiar saldo a tipo lista en vez de np.array\n",
        "print(saldo)\n",
        "\n",
        "# Manera 2\n",
        "saldo_mensual = []\n",
        "for num in range(len(ing_men)):\n",
        "  saldo_mensual.append(ing_men[num] - gast_men[num])\n",
        "\n",
        "print(saldo_mensual)"
      ]
    },
    {
      "cell_type": "markdown",
      "metadata": {
        "id": "u97jsUsXPyLQ"
      },
      "source": [
        "## Ejercicio 2.\n",
        "\n",
        "Imprime los saldos mensuales. (0.25 pts)\n"
      ]
    },
    {
      "cell_type": "code",
      "execution_count": null,
      "metadata": {
        "colab": {
          "base_uri": "https://localhost:8080/"
        },
        "id": "yXloiyMdPyLQ",
        "outputId": "7a9449be-ced8-4a60-a0d2-f0b19cacfd73"
      },
      "outputs": [
        {
          "output_type": "stream",
          "name": "stdout",
          "text": [
            "Saldos mensual: [2000, 2300, 2500, 2800, 3200, 3600, 2000, -500, 3000, 4500, 4800, 5200]\n"
          ]
        }
      ],
      "source": [
        "## Solución ejercicio 2\n",
        "print(f\"Saldos mensual: {saldo_mensual}\")"
      ]
    },
    {
      "cell_type": "markdown",
      "metadata": {
        "id": "2gHI7QKfPyLQ"
      },
      "source": [
        "## Ejercicio 3.\n",
        "\n",
        "Calcula el saldo total de los 9 primeros meses. (1.5 pts)\n",
        "\n"
      ]
    },
    {
      "cell_type": "code",
      "execution_count": 4,
      "metadata": {
        "id": "LHqZGj5IPyLQ"
      },
      "outputs": [],
      "source": [
        "## Solución ejercicio 3\n",
        "\n",
        "# Manera 1\n",
        "sum_9_primeros = sum(saldo_mensual[:9])\n",
        "\n",
        "# Manera 2\n",
        "sum_9_primeros_aux = 0\n",
        "for saldo in saldo_mensual[:9]:\n",
        "  sum_9_primeros_aux += saldo"
      ]
    },
    {
      "cell_type": "markdown",
      "metadata": {
        "id": "f1xgUUfLPyLQ"
      },
      "source": [
        "## Ejercicio 4.\n",
        "\n",
        "Imprime el saldo total de los primeros 9 meses (0.25 pts)\n"
      ]
    },
    {
      "cell_type": "code",
      "execution_count": 5,
      "metadata": {
        "colab": {
          "base_uri": "https://localhost:8080/"
        },
        "id": "s3chZDLuPyLQ",
        "outputId": "e253cb2d-7ebe-47ed-a893-862024b23918"
      },
      "outputs": [
        {
          "output_type": "stream",
          "name": "stdout",
          "text": [
            "Primeros 9 meses 20900\n",
            "Primeros 9 meses 20900\n"
          ]
        }
      ],
      "source": [
        "## Solución ejercicio 4\n",
        "print(f\"Primeros 9 meses {sum_9_primeros}\")\n",
        "print(f\"Primeros 9 meses {sum_9_primeros_aux}\")\n"
      ]
    },
    {
      "cell_type": "markdown",
      "metadata": {
        "id": "MVZnPSXGPyLR"
      },
      "source": [
        "## Ejercicio 5.\n",
        "\n",
        " Imprime el saldo mayor y el saldo menor de todos los saldos (0.5 pts)\n",
        "\n"
      ]
    },
    {
      "cell_type": "code",
      "execution_count": 6,
      "metadata": {
        "colab": {
          "base_uri": "https://localhost:8080/"
        },
        "id": "hcSaHrV8PyLR",
        "outputId": "0e3360ea-6e49-4e44-9377-21c9f81f3464"
      },
      "outputs": [
        {
          "output_type": "stream",
          "name": "stdout",
          "text": [
            "Máximo: 5200\n",
            "Minimo: -500\n"
          ]
        }
      ],
      "source": [
        "## Solución ejercicio 5\n",
        "maximo = max(saldo_mensual)\n",
        "minimo = min(saldo_mensual)\n",
        "\n",
        "print(f\"Máximo: {maximo}\\nMinimo: {minimo}\")"
      ]
    },
    {
      "cell_type": "markdown",
      "metadata": {
        "id": "7cElzplyPyLR"
      },
      "source": [
        "## APARTADO 2"
      ]
    },
    {
      "cell_type": "markdown",
      "metadata": {
        "id": "MStZJxZecGC1"
      },
      "source": [
        "## Ejercicio 6: Cálculo del valor de acciones de dos inversores\n",
        "\n",
        "Tienes tres diccionarios:\n",
        "\n",
        "+ Un diccionario que contiene los precios actuales de las acciones.\n",
        "+ Dos diccionarios que contienen la cantidad de acciones que cada inversor posee.\n",
        "\n",
        "Calcula el valor de la cartera del primer inversor. (1.75 pts)"
      ]
    },
    {
      "cell_type": "code",
      "execution_count": 10,
      "metadata": {
        "id": "JTKOtlBrcicn",
        "colab": {
          "base_uri": "https://localhost:8080/"
        },
        "outputId": "d8460661-938e-49b7-fc2f-9dfa7e448a4d"
      },
      "outputs": [
        {
          "output_type": "stream",
          "name": "stdout",
          "text": [
            "Valor cartera: 5321.05\n"
          ]
        }
      ],
      "source": [
        "## Solución ejercicio 6\n",
        "\n",
        "# Precios actuales de las acciones\n",
        "precios_acciones = {\n",
        "    'AAPL': 174.55,\n",
        "    'GOOGL': 138.20,\n",
        "    'AMZN': 125.65,\n",
        "    'MSFT': 313.45,\n",
        "    'TSLA': 265.75\n",
        "}\n",
        "\n",
        "# Cantidad de acciones que tiene el Inversor 1\n",
        "acciones_inversor_1 = {\n",
        "    'AAPL': 10,\n",
        "    'GOOGL': 5,\n",
        "    'AMZN': 3,\n",
        "    'MSFT': 8\n",
        "}\n",
        "\n",
        "# Cantidad de acciones que tiene el Inversor 2\n",
        "acciones_inversor_2 = {\n",
        "    'AAPL': 7,\n",
        "    'GOOGL': 8,\n",
        "    'TSLA': 4\n",
        "}\n",
        "\n",
        "valor_cartera_inv1 = 0\n",
        "\n",
        "for valor in acciones_inversor_1:\n",
        "  valor_cartera_inv1 += precios_acciones[valor]*acciones_inversor_1[valor]\n",
        "\n",
        "print(f\"Valor cartera: {valor_cartera_inv1:.2f}\")\n"
      ]
    },
    {
      "cell_type": "markdown",
      "metadata": {
        "id": "oYJZePhOPyLR"
      },
      "source": [
        "## Ejercicio 7\n",
        "\n",
        "Calcula el valor de la cartera del segundo inversor. (1.75 pts)\n"
      ]
    },
    {
      "cell_type": "code",
      "execution_count": 8,
      "metadata": {
        "colab": {
          "base_uri": "https://localhost:8080/"
        },
        "id": "1GFUzN08PyLR",
        "outputId": "911f412e-cbdf-4c6d-ed20-cfeff7c7f02e"
      },
      "outputs": [
        {
          "output_type": "stream",
          "name": "stdout",
          "text": [
            "Valor cartera: 3390.45\n"
          ]
        }
      ],
      "source": [
        "## Solución ejercicio 7\n",
        "valor_cartera_inv2 = 0\n",
        "for valor in acciones_inversor_2:\n",
        "  valor_cartera_inv2 += acciones_inversor_2[valor] * precios_acciones[valor]\n",
        "\n",
        "print(f\"Valor cartera: {valor_cartera_inv2:.2f}\")"
      ]
    },
    {
      "cell_type": "markdown",
      "metadata": {
        "id": "S_4ErLi6PyLR"
      },
      "source": [
        "## Ejercicio 8\n",
        "\n",
        "Compáralos e imprime por pantalla el resultado mayor. (0.5 pts)\n"
      ]
    },
    {
      "cell_type": "code",
      "execution_count": 12,
      "metadata": {
        "colab": {
          "base_uri": "https://localhost:8080/"
        },
        "id": "ZdMDPWWnPyLR",
        "outputId": "4a69dabc-1155-4e2e-838d-07ecec9fcf78"
      },
      "outputs": [
        {
          "output_type": "stream",
          "name": "stdout",
          "text": [
            "El inversor 1 con cartera 5321.05 es mas grande.\n"
          ]
        }
      ],
      "source": [
        "## Solucion ejercicio 8\n",
        "\n",
        "if valor_cartera_inv1 > valor_cartera_inv2:\n",
        "  print(f\"El inversor 1 con cartera {valor_cartera_inv1:.2f} es mas grande.\")\n",
        "else:\n",
        "  print(f\"El inversor 2 con cartera {valor_cartera_inv2:.2f} es mas grande.\")"
      ]
    },
    {
      "cell_type": "markdown",
      "metadata": {
        "id": "vBblw_aHPyLR"
      },
      "source": [
        "## APARTADO 3"
      ]
    },
    {
      "cell_type": "markdown",
      "metadata": {
        "id": "DbRC5fuwdR1o"
      },
      "source": [
        "## Ejercicio 9: Funciones\n",
        "\n",
        "Crea una función que reciba una lista y te devuelva el último elemento. (0.75 pts)\n"
      ]
    },
    {
      "cell_type": "code",
      "execution_count": 13,
      "metadata": {
        "id": "-eoDxR5dPyLR"
      },
      "outputs": [],
      "source": [
        "## Solucion ejercicio 9\n",
        "\n",
        "def ultim_elem(lista: list):\n",
        "  ultimo_elemento = lista[-1]\n",
        "  return ultimo_elemento\n"
      ]
    },
    {
      "cell_type": "markdown",
      "metadata": {
        "id": "X9KzHEK1PyLR"
      },
      "source": [
        "## APARTADO 4"
      ]
    },
    {
      "cell_type": "markdown",
      "metadata": {
        "id": "ipWPKvDZPyLR"
      },
      "source": [
        "## Ejercicio 10\n",
        "\n",
        "Crea una función que reciba dos listas y te devuelva un diccionario usando la primera como claves y la segunda como valores. (1.25 pts)\n",
        "\n"
      ]
    },
    {
      "cell_type": "code",
      "execution_count": 14,
      "metadata": {
        "id": "JSajSkOKPyLR"
      },
      "outputs": [],
      "source": [
        "## Solucion ejercicio 10\n",
        "\n",
        "def crear_dict(list1, list2):\n",
        "  d = dict(zip(list1, list2))\n",
        "  return d\n"
      ]
    }
  ],
  "metadata": {
    "colab": {
      "provenance": [],
      "include_colab_link": true
    },
    "kernelspec": {
      "display_name": "Python 3",
      "name": "python3"
    },
    "language_info": {
      "codemirror_mode": {
        "name": "ipython",
        "version": 3
      },
      "file_extension": ".py",
      "mimetype": "text/x-python",
      "name": "python",
      "nbconvert_exporter": "python",
      "pygments_lexer": "ipython3",
      "version": "3.11.6"
    }
  },
  "nbformat": 4,
  "nbformat_minor": 0
}