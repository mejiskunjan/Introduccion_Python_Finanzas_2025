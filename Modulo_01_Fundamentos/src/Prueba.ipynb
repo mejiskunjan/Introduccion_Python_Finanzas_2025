{
  "nbformat": 4,
  "nbformat_minor": 0,
  "metadata": {
    "colab": {
      "provenance": [],
      "authorship_tag": "ABX9TyNralbT1+YNx5RPi/QMFGbO",
      "include_colab_link": true
    },
    "kernelspec": {
      "name": "python3",
      "display_name": "Python 3"
    },
    "language_info": {
      "name": "python"
    }
  },
  "cells": [
    {
      "cell_type": "markdown",
      "metadata": {
        "id": "view-in-github",
        "colab_type": "text"
      },
      "source": [
        "<a href=\"https://colab.research.google.com/github/alfonso-santos/Introduccion-a-Python-para-las-Finanzas-2024/blob/main/Modulo_01_Fundamentos/src/Prueba.ipynb\" target=\"_parent\"><img src=\"https://colab.research.google.com/assets/colab-badge.svg\" alt=\"Open In Colab\"/></a>"
      ]
    },
    {
      "cell_type": "markdown",
      "source": [
        "# Simulacro examen (hasta 1.6)"
      ],
      "metadata": {
        "id": "sufew__y1jQv"
      }
    },
    {
      "cell_type": "markdown",
      "source": [
        "Tienes 20 minutos para relizar esta prueba.\n",
        "\n",
        "Recuerda que no puedes usar chatGPT pero SI tienes acceso a los notebooks de clase.\n",
        "\n"
      ],
      "metadata": {
        "id": "sq77uAks1op-"
      }
    },
    {
      "cell_type": "markdown",
      "source": [
        "## Ejercicio 1\n",
        "\n",
        "Tenemos un cliente que quiere acciones de ciertas compañías: Telefónica, Apple, Microsoft, Tesla.\n",
        "\n",
        "En total quiere una cartera 2000 acciones repartidas de la siguiente manera:\n",
        "- Telefónica: 20%\n",
        "- Apple: 15%\n",
        "- Microsoft: 40%\n",
        "- Tesla 25%\n",
        "\n",
        "El valor de cada acción ahora mismo es:\n",
        "- Telefónica: 48.6\n",
        "- Apple: 115.2\n",
        "- Microsoft: 65.9\n",
        "- Tesla 180.3\n",
        "\n",
        "a) Calcula e imprime el valor de las acciones por separado.\n",
        "\n",
        "b) Calcula e imprime el valor de la cartera de valores.\n"
      ],
      "metadata": {
        "id": "lgleIotS2Coi"
      }
    },
    {
      "cell_type": "code",
      "execution_count": 3,
      "metadata": {
        "id": "1Crl4QFz1iSf",
        "outputId": "3dc362f2-b994-4bf8-e755-71f6d1a6156c",
        "colab": {
          "base_uri": "https://localhost:8080/"
        }
      },
      "outputs": [
        {
          "output_type": "stream",
          "name": "stdout",
          "text": [
            "Telefónica: 19440.0\n",
            "Apple: 34560.0\n",
            "Microsoft: 52720.00000000001\n",
            "Tesla: 90150.0\n"
          ]
        }
      ],
      "source": [
        "# Realiza aquí el A\n",
        "import numpy as np\n",
        "\n",
        "num_acciones = [0.2 * 2000, 0.15 * 2000, 0.4 * 2000, 0.25 * 2000]\n",
        "valor_accion = [48.6, 115.2, 65.9, 180.3]\n",
        "\n",
        "valores_cartera = np.multiply(num_acciones, valor_accion)\n",
        "\n",
        "print(f\"Telefónica: {valores_cartera[0]}\\n\"\n",
        "      f\"Apple: {valores_cartera[1]}\\n\"\n",
        "      f\"Microsoft: {valores_cartera[2]}\\n\"\n",
        "      f\"Tesla: {valores_cartera[3]}\"\n",
        "      )"
      ]
    },
    {
      "cell_type": "code",
      "source": [
        "# Realiza aquí el B\n",
        "valor_total_cartera = sum(valores_cartera)\n",
        "\n",
        "print(f\"La cartera vale: {valor_total_cartera}\")"
      ],
      "metadata": {
        "id": "4grXinLm3cwZ",
        "outputId": "cc8b3449-b083-4c7d-c716-5a0178d522e7",
        "colab": {
          "base_uri": "https://localhost:8080/"
        }
      },
      "execution_count": 4,
      "outputs": [
        {
          "output_type": "stream",
          "name": "stdout",
          "text": [
            "La cartera vale: 196870.0\n"
          ]
        }
      ]
    },
    {
      "cell_type": "markdown",
      "source": [
        "## Ejercicio 2"
      ],
      "metadata": {
        "id": "A5rjBKNV8lql"
      }
    },
    {
      "cell_type": "markdown",
      "source": [
        "Tenemos un algoritmo mágico que predice el aumento del valor de cada acción dentro de cinco años.\n",
        "\n",
        "El aumento es el siguiente:\n",
        "- Telefónica: -0.2\n",
        "- Apple: 0.8\n",
        "- Microsoft: 0.5\n",
        "- Tesla 1.3\n",
        "\n",
        "a) Calcula e imprime el valor de las acciones dentro de 5 años por separado.\n",
        "\n",
        "b) Calcula e imprime el valor de la cartera de valores dentro de 5 años y la diferencia con la actual."
      ],
      "metadata": {
        "id": "UVBkBr1b8pTJ"
      }
    },
    {
      "cell_type": "code",
      "source": [
        "# Realiza aquí el A\n",
        "variacion_cartera_futuro = [0.8, 1.8, 1.5, 2.3] # si la acción varía 0.8, el nuevo valor es 1.8 del valor anterior\n",
        "valor_accion_futuro = np.multiply(valor_accion, variacion_cartera_futuro)\n",
        "\n",
        "valores_cartera_futuro = np.multiply(valor_accion_futuro, num_acciones)\n",
        "\n",
        "print(f\"Telefónica futuro: {valores_cartera_futuro[0]}\\n\"\n",
        "      f\"Apple futuro: {valores_cartera_futuro[1]}\\n\"\n",
        "      f\"Microsoft futuro: {valores_cartera_futuro[2]}\\n\"\n",
        "      f\"Tesla futuro: {valores_cartera_futuro[3]}\"\n",
        "      )"
      ],
      "metadata": {
        "id": "IKvdObnM9Wkf",
        "outputId": "f3a1369b-003b-4310-f24f-ec77409f52c4",
        "colab": {
          "base_uri": "https://localhost:8080/"
        }
      },
      "execution_count": 6,
      "outputs": [
        {
          "output_type": "stream",
          "name": "stdout",
          "text": [
            "Telefónica futuro: 15552.000000000002\n",
            "Apple futuro: 62208.00000000001\n",
            "Microsoft futuro: 79080.0\n",
            "Tesla futuro: 207345.0\n"
          ]
        }
      ]
    },
    {
      "cell_type": "code",
      "source": [
        "# Realiza aquí el B\n",
        "valor_total_cartera_futuro = sum(valores_cartera_futuro)\n",
        "\n",
        "print(f\"La cartera en 5 años vale: {valor_total_cartera_futuro}\")"
      ],
      "metadata": {
        "id": "43wsF8sw9iSU",
        "outputId": "faa23e60-1562-460b-ee5d-2898ea255aa6",
        "colab": {
          "base_uri": "https://localhost:8080/"
        }
      },
      "execution_count": 7,
      "outputs": [
        {
          "output_type": "stream",
          "name": "stdout",
          "text": [
            "La cartera en 5 años vale: 364185.0\n"
          ]
        }
      ]
    }
  ]
}