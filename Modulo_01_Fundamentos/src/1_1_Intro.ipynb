{
 "cells": [
  {
   "cell_type": "markdown",
   "metadata": {},
   "source": [
    "# ¿Qué es necesario para programar en Python?\n",
    "\n",
    "Para poder programar necesitamos los siguientes componentes:\n",
    "\n",
    "* El lenguaje de programación\n",
    "\n",
    "* Un entorno de programación"
   ]
  },
  {
   "cell_type": "markdown",
   "metadata": {},
   "source": [
    "# Lenguaje de programación:\n",
    "<br>\n",
    "<left>\n",
    "<img src=\"./imgs/Operating_system_placement.png\"  alt=\"drawing\" width=\"10%\"/>\n",
    "</centeleftr>"
   ]
  },
  {
   "cell_type": "markdown",
   "metadata": {},
   "source": [
    "# ¿Qué es Python?"
   ]
  },
  {
   "cell_type": "markdown",
   "metadata": {},
   "source": [
    "* Python es un lenguaje de programación interpretado.\n",
    "\n",
    "    * Este tipo de lenguajes se compilan (traducen a idioma máquina) en tiempo de ejecución.\n",
    "\n",
    "    * Debido a este proceso los lenguajes interpretados son en general más lentos que los compilados, sim embargo son más portables.\n",
    "\n",
    "    * La mayoría de librerías de Python están escritas con el propio Python, pero aquellas que buscan rendimiento en tiempo de ejecución estarán escritas en lenguajes compilados (en general C, C++ y/o Fortran).\n",
    "\n",
    "* Python es un lenguaje no tipado.\n",
    "\n",
    "    * No hay que definir el tipo de variable, el propio intérprete es capaz de deducir el tipo en tiempo de ejecución.\n",
    "    \n",
    "    * Las variables pueden cambiar de tipo.\n",
    "    \n",
    "* En Python todo es un objeto, de esto hablaremos más adelante."
   ]
  },
  {
   "cell_type": "markdown",
   "metadata": {},
   "source": [
    "# Estructura de Python\n",
    "<center>\n",
    "<img src=\"./imgs/scipy_ecosystem.png\"  alt=\"drawing\" width=\"75%\"/>\n",
    "</center>"
   ]
  }
 ],
 "metadata": {
  "kernelspec": {
   "display_name": "Python 3.9.13 ('venv': venv)",
   "language": "python",
   "name": "python3"
  },
  "language_info": {
   "name": "python",
   "version": "3.9.13"
  },
  "orig_nbformat": 4,
  "vscode": {
   "interpreter": {
    "hash": "22cb0f1f6b6fc0a1bc72875728e990faf4498df1611eccb1ac603d8c0e7d2ba6"
   }
  }
 },
 "nbformat": 4,
 "nbformat_minor": 2
}
