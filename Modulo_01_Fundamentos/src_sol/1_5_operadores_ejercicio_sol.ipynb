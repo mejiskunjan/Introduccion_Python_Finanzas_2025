{
  "cells": [
    {
      "cell_type": "markdown",
      "metadata": {
        "id": "view-in-github",
        "colab_type": "text"
      },
      "source": [
        "<a href=\"https://colab.research.google.com/github/alfonso-santos/Introduccion-a-Python-para-las-Finanzas-2024/blob/main/Modulo_01_Fundamentos/src/1_51_operadores_ejercicio_sol.ipynb\" target=\"_parent\"><img src=\"https://colab.research.google.com/assets/colab-badge.svg\" alt=\"Open In Colab\"/></a>"
      ]
    },
    {
      "cell_type": "markdown",
      "metadata": {
        "id": "uh7Krk2HEVmT"
      },
      "source": [
        "# Operadores"
      ]
    },
    {
      "cell_type": "markdown",
      "metadata": {
        "id": "bFHhfveyEVmV"
      },
      "source": [
        "## Operadores aritméticos"
      ]
    },
    {
      "cell_type": "markdown",
      "metadata": {
        "id": "QOk9U7dmEVmV"
      },
      "source": [
        "|Operador|Descripción|Uso|\n",
        "|-|-|-|\n",
        "|+|\tRealiza Adición entre los operandos|\t12 + 3 = 15|\n",
        "|-|\tRealiza Substracción entre los operandos|\t12 - 3 = 9|\n",
        "|*|\tRealiza Multiplicación entre los operandos|\t12 * 3 = 36|\n",
        "|/|\tRealiza División entre los operandos|\t12 / 3 = 4|\n",
        "|**|\tRealiza la potencia de los operandos|\t2 ** 3 = 8|"
      ]
    },
    {
      "cell_type": "code",
      "execution_count": null,
      "metadata": {
        "id": "K42KnNjbEVmW",
        "outputId": "7b3162bd-9b22-4a50-fc19-b807bc6088f8",
        "colab": {
          "base_uri": "https://localhost:8080/"
        }
      },
      "outputs": [
        {
          "output_type": "execute_result",
          "data": {
            "text/plain": [
              "-74"
            ]
          },
          "metadata": {},
          "execution_count": 2
        }
      ],
      "source": [
        "12+3-89"
      ]
    },
    {
      "cell_type": "code",
      "execution_count": null,
      "metadata": {
        "id": "48008nVYEVmW",
        "outputId": "14083b08-b461-4334-c758-7eeabf13689f"
      },
      "outputs": [
        {
          "data": {
            "text/plain": [
              "4.0"
            ]
          },
          "execution_count": 3,
          "metadata": {},
          "output_type": "execute_result"
        }
      ],
      "source": [
        "12*3/9"
      ]
    },
    {
      "cell_type": "code",
      "execution_count": null,
      "metadata": {
        "id": "2hqhqIIQEVmX",
        "outputId": "818262a8-63cd-49e5-beee-8d836cdbde78",
        "colab": {
          "base_uri": "https://localhost:8080/"
        }
      },
      "outputs": [
        {
          "output_type": "execute_result",
          "data": {
            "text/plain": [
              "8"
            ]
          },
          "metadata": {},
          "execution_count": 6
        }
      ],
      "source": [
        "2**3"
      ]
    },
    {
      "cell_type": "markdown",
      "metadata": {
        "id": "O8wYpurhEVmX"
      },
      "source": [
        "## Operadores Relacionales o de Comparación"
      ]
    },
    {
      "cell_type": "markdown",
      "metadata": {
        "id": "WaWOyUynEVmX"
      },
      "source": [
        "|Operador|Descripción|Uso|\n",
        "|-|-|-|\n",
        "|>\t|Devuelve True si el operador de la izquierda es mayor que el operador de la derecha|\t12 > 3 devuelve True|\n",
        "|<\t|Devuelve True si el operador de la derecha es mayor que el operador de la izquierda|\t12 < 3 devuelve False|\n",
        "|==\t|Devuelve True si ambos operandos son iguales|\t12 == 3 devuelve False|\n",
        "|>=\t|Devuelve True si el operador de la izquierda es mayor o igual que el operador de la derecha|\t12 >= 3 devuelve True|\n",
        "|<=\t|Devuelve True si el operador de la derecha es mayor o igual que el operador de la izquierda|\t12 <= 3 devuelve False|\n",
        "|!=\t|Devuelve True si ambos operandos no son iguales|\t12 != 3 devuelve True|\n",
        "| is | Devuelve True si ambos objetos son el mismo| a is b devuelve True si son lo mismo|\n",
        "| is not | Devuelve True si ambos objetos no son el mismo| a is not  b devuelve True si son distintos|"
      ]
    },
    {
      "cell_type": "code",
      "execution_count": null,
      "metadata": {
        "id": "f4r8sAU9EVmX",
        "outputId": "8364a68b-8bfb-48c8-efc8-46c56f3022cb",
        "colab": {
          "base_uri": "https://localhost:8080/"
        }
      },
      "outputs": [
        {
          "output_type": "execute_result",
          "data": {
            "text/plain": [
              "True"
            ]
          },
          "metadata": {},
          "execution_count": 3
        }
      ],
      "source": [
        "12 > 3"
      ]
    },
    {
      "cell_type": "code",
      "execution_count": null,
      "metadata": {
        "id": "qLY4Ky3TEVmX",
        "outputId": "fdb70eaf-ce4c-426c-8d46-b2e4dcd9591f",
        "colab": {
          "base_uri": "https://localhost:8080/"
        }
      },
      "outputs": [
        {
          "output_type": "execute_result",
          "data": {
            "text/plain": [
              "False"
            ]
          },
          "metadata": {},
          "execution_count": 4
        }
      ],
      "source": [
        "12 < 3"
      ]
    },
    {
      "cell_type": "code",
      "execution_count": null,
      "metadata": {
        "id": "x0PfLK4AEVmX",
        "outputId": "6157e98b-adb0-4135-c3c2-0da849f1e03d",
        "colab": {
          "base_uri": "https://localhost:8080/"
        }
      },
      "outputs": [
        {
          "output_type": "execute_result",
          "data": {
            "text/plain": [
              "False"
            ]
          },
          "metadata": {},
          "execution_count": 5
        }
      ],
      "source": [
        "12 == 3"
      ]
    },
    {
      "cell_type": "code",
      "execution_count": null,
      "metadata": {
        "id": "qnce2Pg6EVmY",
        "outputId": "43fb9e26-961f-4c70-a360-409b6e60fe09",
        "colab": {
          "base_uri": "https://localhost:8080/"
        }
      },
      "outputs": [
        {
          "output_type": "execute_result",
          "data": {
            "text/plain": [
              "True"
            ]
          },
          "metadata": {},
          "execution_count": 6
        }
      ],
      "source": [
        "12 == 4*3"
      ]
    },
    {
      "cell_type": "code",
      "execution_count": null,
      "metadata": {
        "id": "7pYFPKg9EVmY",
        "outputId": "2eeb100b-470e-4d79-cb69-491973719fef",
        "colab": {
          "base_uri": "https://localhost:8080/"
        }
      },
      "outputs": [
        {
          "output_type": "execute_result",
          "data": {
            "text/plain": [
              "True"
            ]
          },
          "metadata": {},
          "execution_count": 7
        }
      ],
      "source": [
        "a = 1\n",
        "b = 1\n",
        "a is b"
      ]
    },
    {
      "cell_type": "code",
      "execution_count": null,
      "metadata": {
        "id": "R7D38p4sEVmY",
        "outputId": "45d77637-2a95-4a73-fec9-9485ac6d1d0d",
        "colab": {
          "base_uri": "https://localhost:8080/"
        }
      },
      "outputs": [
        {
          "output_type": "stream",
          "name": "stdout",
          "text": [
            "False\n",
            "True\n"
          ]
        }
      ],
      "source": [
        "a = 1\n",
        "b = 'perro'\n",
        "print(a is b)\n",
        "print(a is not b)"
      ]
    },
    {
      "cell_type": "markdown",
      "metadata": {
        "id": "Pr0KhKjoEVmY"
      },
      "source": [
        "# Operadores Lógicos"
      ]
    },
    {
      "cell_type": "markdown",
      "metadata": {
        "id": "9w0R1lZpEVmY"
      },
      "source": [
        "|Operador|Descripción|Uso|\n",
        "|-|-|-|\n",
        "|and\t|Devuelve True si ambos operandos son True|\ta and b|\n",
        "|or\t|Devuelve True si alguno de los operandos es True|\ta or b|\n",
        "|not\t|Devuelve True si alguno de los operandos False|\tnot a|"
      ]
    },
    {
      "cell_type": "markdown",
      "metadata": {
        "id": "sLB1O7S-EVmY"
      },
      "source": [
        "Tabla del **OR**\n",
        "\n",
        "|A|B|Resultado|\n",
        "|-|-|-|\n",
        "|True|True|True|\n",
        "|True|False|True|\n",
        "|False|True|True|\n",
        "|False|False|False|"
      ]
    },
    {
      "cell_type": "markdown",
      "metadata": {
        "id": "1SC2orFyEVmY"
      },
      "source": [
        "Tabla del **AND**\n",
        "\n",
        "|A|B|Resultado|\n",
        "|-|-|-|\n",
        "|True|True|True|\n",
        "|True|False|False|\n",
        "|False|True|False|\n",
        "|False|False|True|"
      ]
    },
    {
      "cell_type": "code",
      "execution_count": null,
      "metadata": {
        "id": "Fx5WBcMBEVmY",
        "outputId": "0e838380-ad82-433e-ee18-b3a9dee161d7",
        "colab": {
          "base_uri": "https://localhost:8080/"
        }
      },
      "outputs": [
        {
          "output_type": "execute_result",
          "data": {
            "text/plain": [
              "False"
            ]
          },
          "metadata": {},
          "execution_count": 11
        }
      ],
      "source": [
        "(12 > 3) and (4 > 5)\n"
      ]
    },
    {
      "cell_type": "code",
      "execution_count": null,
      "metadata": {
        "id": "-BfIMr-JEVmY",
        "outputId": "8746583a-242e-4fbe-9c5f-57cbd5f4be7e",
        "colab": {
          "base_uri": "https://localhost:8080/"
        }
      },
      "outputs": [
        {
          "output_type": "execute_result",
          "data": {
            "text/plain": [
              "True"
            ]
          },
          "metadata": {},
          "execution_count": 12
        }
      ],
      "source": [
        "12 > 3 and 5 > 4"
      ]
    },
    {
      "cell_type": "code",
      "execution_count": null,
      "metadata": {
        "id": "-Y7VNOSVEVmZ",
        "outputId": "4ae7674f-e75c-4265-8e03-56acbc7702ad",
        "colab": {
          "base_uri": "https://localhost:8080/"
        }
      },
      "outputs": [
        {
          "output_type": "execute_result",
          "data": {
            "text/plain": [
              "True"
            ]
          },
          "metadata": {},
          "execution_count": 13
        }
      ],
      "source": [
        "12 > 3 or 4 > 5"
      ]
    },
    {
      "cell_type": "code",
      "execution_count": null,
      "metadata": {
        "id": "HpLRIYz-EVmZ",
        "outputId": "4e092399-7217-4e97-9bf3-33a807227692",
        "colab": {
          "base_uri": "https://localhost:8080/"
        }
      },
      "outputs": [
        {
          "output_type": "execute_result",
          "data": {
            "text/plain": [
              "False"
            ]
          },
          "metadata": {},
          "execution_count": 14
        }
      ],
      "source": [
        "3 > 7 and 4 > 5"
      ]
    },
    {
      "cell_type": "code",
      "execution_count": null,
      "metadata": {
        "id": "gxgJ0BYwEVmZ",
        "outputId": "1e1131e6-8778-4e4d-994b-39758ce22a6a",
        "colab": {
          "base_uri": "https://localhost:8080/"
        }
      },
      "outputs": [
        {
          "output_type": "execute_result",
          "data": {
            "text/plain": [
              "False"
            ]
          },
          "metadata": {},
          "execution_count": 15
        }
      ],
      "source": [
        "not(7 > 2)"
      ]
    },
    {
      "cell_type": "code",
      "execution_count": null,
      "metadata": {
        "id": "Dif-t86SEVmZ",
        "outputId": "30942fd6-dd63-4544-8181-077b69dd5d68",
        "colab": {
          "base_uri": "https://localhost:8080/"
        }
      },
      "outputs": [
        {
          "output_type": "execute_result",
          "data": {
            "text/plain": [
              "True"
            ]
          },
          "metadata": {},
          "execution_count": 16
        }
      ],
      "source": [
        "not(7 < 2)"
      ]
    },
    {
      "cell_type": "markdown",
      "metadata": {
        "id": "HIV0GZnAFEXs"
      },
      "source": [
        "## Práctica"
      ]
    },
    {
      "cell_type": "markdown",
      "metadata": {
        "id": "ayI54_fUFJfH"
      },
      "source": [
        "<div style=\"background-color: #e0f7fa; padding: 10px;\">\n",
        "\n",
        "A un cliente le han regalado 1321 acciones de una empresa. Cada acción cotiza ahora mismo a 4.67€. El cliente no sabe usar una calculadora así que te pide que por favor le digas el valor de su cartera de valores.\n",
        "\n",
        "Nota: asigna buenos nombres a las variables. Si vas a calcular el valor de la cartera no lo llames 'x', llámalo 'valor_cartera'\n",
        "\n",
        "Imprime por pantalla el resultado"
      ]
    },
    {
      "cell_type": "code",
      "execution_count": null,
      "metadata": {
        "id": "UqaJp_qCFGKo",
        "outputId": "ded37a97-0f00-49a3-a5a4-a7ac6fc729ce",
        "colab": {
          "base_uri": "https://localhost:8080/"
        }
      },
      "outputs": [
        {
          "output_type": "stream",
          "name": "stdout",
          "text": [
            "Valor cartera =  6169.07 €\n"
          ]
        }
      ],
      "source": [
        "# Escribe aquí tu código\n",
        "valor_cartera = 1321*4.67\n",
        "print(\"Valor cartera = \", valor_cartera, \"€\")"
      ]
    },
    {
      "cell_type": "markdown",
      "metadata": {
        "id": "9nE1aC-FFv5X"
      },
      "source": [
        "<div style=\"background-color: #e0f7fa; padding: 10px;\">\n",
        "\n",
        "Resulta que además quiere liquidar todas las acciones y esto conlleva pagar impuestos que son un 20% de la rentabilidad obtenida. Calcula cuanto va a tener que pagar e imprímelo por pantalla."
      ]
    },
    {
      "cell_type": "code",
      "execution_count": null,
      "metadata": {
        "id": "3IJpXIHdGICq",
        "outputId": "8ea60a98-8515-4ecd-b41a-2dd0205513f3",
        "colab": {
          "base_uri": "https://localhost:8080/"
        }
      },
      "outputs": [
        {
          "output_type": "stream",
          "name": "stdout",
          "text": [
            "Impuestos a pagar =  1233.814\n"
          ]
        }
      ],
      "source": [
        "# Escribe aquí tu código\n",
        "impuestos = 0.2 * valor_cartera\n",
        "print(\"Impuestos a pagar = \", impuestos)"
      ]
    },
    {
      "cell_type": "markdown",
      "metadata": {
        "id": "B7JsjzX3Isar"
      },
      "source": [
        "<div style=\"background-color: #e0f7fa; padding: 10px;\">\n",
        "\n",
        "Ahora queremos escribir un programa que, dado una facturación trimestral como autónomo, calcule cuanto le queda despues de pagar impuestos ese trimestre.\n",
        "\n",
        "De la facturación, el 37% es beneficio, y es sobre eso sobre lo que se pagan impuestos.\n",
        "\n",
        "Vamos a suponer que la cuota se paga trimestralmente y que equivale a 280€ al mes.\n",
        "Vamos a suponer que la sociedad se paga trismestralmente y es un 20% del rendimiento.\n",
        "Vamos a suponer que el irpf es un 38% y se paga junto con la sociedad.\n",
        "\n",
        "Imprime por pantalla cuanto paga de cada impuesto y cuanto le queda (utiliza 2 decimales)"
      ]
    },
    {
      "cell_type": "code",
      "execution_count": null,
      "metadata": {
        "id": "eXf0qre5Isar",
        "outputId": "3d60e241-c053-473b-bcad-5a644fb91828",
        "colab": {
          "base_uri": "https://localhost:8080/"
        }
      },
      "outputs": [
        {
          "output_type": "stream",
          "name": "stdout",
          "text": [
            "Pago de cuota =  840 \n",
            "Pago de sociedad =  1480.0 \n",
            "IRPF =  2812.0\n",
            "Le queda 2268.0\n",
            "Le queda 2268.0\n"
          ]
        }
      ],
      "source": [
        "ingreso_trimestral = 20000\n",
        "\n",
        "# Escribe aquí tu código\n",
        "\n",
        "# Base sobre la que vamos a pagar impuestos\n",
        "base_impuestos = ingreso_trimestral*0.37\n",
        "\n",
        "# Impuestos que hay que pagar\n",
        "cuota = 280*3\n",
        "sociedad = 0.2*base_impuestos\n",
        "irpf = 0.38*base_impuestos\n",
        "print(\"Pago de cuota = \", cuota,\"\\nPago de sociedad = \", sociedad,\"\\nIRPF = \", irpf)\n",
        "\n",
        "# Total de impuestos y monto restante\n",
        "impuestos = cuota + sociedad + irpf\n",
        "cantidad_final = base_impuestos - impuestos\n",
        "print(\"Le queda\", cantidad_final)\n",
        "print(f\"Le queda {cantidad_final}\")"
      ]
    },
    {
      "cell_type": "markdown",
      "metadata": {
        "id": "gPHgDMOYIsar"
      },
      "source": [
        "<div style=\"background-color: #e0f7fa; padding: 10px;\">\n",
        "\n",
        "Define A y B como true o false.\n",
        "\n",
        "Imprime por pantalla la tabla OR para A y B\n",
        "\n",
        "Las combinaciones son TRUE-TRUE, TRUE-FALSE, FALSE-TRUE, FALSE-FALSE\n",
        "\n",
        "En la celda de abajo encontrarás 2 entradas de la tabla AND para A y B\n"
      ]
    },
    {
      "cell_type": "code",
      "execution_count": null,
      "metadata": {
        "id": "rX9pfVc0Isar",
        "colab": {
          "base_uri": "https://localhost:8080/"
        },
        "outputId": "81f38080-1301-44b7-bbd1-19908460f81f"
      },
      "outputs": [
        {
          "output_type": "stream",
          "name": "stdout",
          "text": [
            "Tabla AND para A y B\n",
            "A=True AND B=True ==> True\n",
            "A=True AND B=False ==> False\n",
            ".\n",
            ".\n",
            ".\n",
            "\n",
            "Tabla OR\n",
            "A=False or B=False ==> False\n",
            "A=False or B=True ==> True\n",
            "A=True or B=False ==> True\n",
            "A=True or B=True ==> True\n"
          ]
        }
      ],
      "source": [
        "print(\"Tabla AND para A y B\")\n",
        "# Definir A y B\n",
        "A = True\n",
        "B = True\n",
        "print(f\"A={A} AND B={B} ==> {A and B}\")\n",
        "\n",
        "# Caso True - False\n",
        "A = True\n",
        "B = False\n",
        "print(f\"A={A} AND B={B} ==> {A and B}\")\n",
        "print(\".\\n.\\n.\\n\")\n",
        "\n",
        "# Comenzamos tabla OR\n",
        "print(\"Tabla OR\")\n",
        "\n",
        "# Caso False - False\n",
        "A = False\n",
        "B = False\n",
        "print(f\"A={A} or B={B} ==> {A or B}\")\n",
        "\n",
        "# Caso False - True\n",
        "A = False\n",
        "B = True\n",
        "print(f\"A={A} or B={B} ==> {A or B}\")\n",
        "\n",
        "# Caso True - False\n",
        "A = True\n",
        "B = False\n",
        "print(f\"A={A} or B={B} ==> {A or B}\")\n",
        "\n",
        "# Caso True - True\n",
        "A = True\n",
        "B = True\n",
        "print(f\"A={A} or B={B} ==> {A or B}\")"
      ]
    },
    {
      "cell_type": "markdown",
      "source": [
        "# Ejercicio de prueba"
      ],
      "metadata": {
        "id": "77NziynTEZuy"
      }
    },
    {
      "cell_type": "markdown",
      "source": [
        "Un banco ofrece diferentes tipos de cuentas de ahorro con tasas de interés anuales. El objetivo del ejercicio es calcular el interés simple y determinar si una cuenta de ahorro es rentable o no según ciertas condiciones.\n",
        "\n",
        "Se deben pedir por teclado los siguientes datos (puedes buscar en google como se solicita información por teclado):\n",
        "\n",
        "Cantidad inicial: el dinero inicial que deposita el cliente.\n",
        "\n",
        "Tasa de interés: la tasa de interés anual en porcentaje.\n",
        "\n",
        "Años: el número de años que el dinero estará en la cuenta.\n",
        "\n",
        "\n",
        "La fórmula del interés simple es la siguiente:\n",
        "\n",
        "$$\n",
        "\\text{Interés simple} = \\text{Cantidad inicial} \\times \\text{Tasa de interés} \\times \\text{Años}\n",
        "$$\n",
        "\n",
        "\n",
        "Después de calcular el interés, el programa deberá:\n",
        "\n",
        "Mostrar el total acumulado (Cantidad inicial + Interés simple).\n",
        "\n",
        "Decidir si la inversión es \"Rentable\" o \"No rentable\":\n",
        "\n",
        "1- Es rentable si la cantidad obetenida es superior a $1.200$ después de los años indicados.\n",
        "\n",
        "2- Es no rentable si la cantidad obtenida es menor o igual a $1.200$.\n",
        "\n",
        "El programa imprimirá el mensaje final:\n",
        "\n",
        "\"Rentable\" o \"No rentable\" en función de si lo es o no."
      ],
      "metadata": {
        "id": "WTOw2MTcEcTY"
      }
    },
    {
      "cell_type": "code",
      "source": [
        "# Ejemplo de solicitud de informacion por pantalla\n",
        "tu_edad = input(\"Cuantos años tienes: \")"
      ],
      "metadata": {
        "id": "cYzuaBQ3EcAH",
        "outputId": "b9750535-bbfb-46a3-e0d2-81d0c15ee7c3",
        "colab": {
          "base_uri": "https://localhost:8080/"
        }
      },
      "execution_count": null,
      "outputs": [
        {
          "name": "stdout",
          "output_type": "stream",
          "text": [
            "Cuantos años tienes: hola\n"
          ]
        }
      ]
    },
    {
      "cell_type": "code",
      "source": [
        "print(tu_edad)\n",
        "type(tu_edad)"
      ],
      "metadata": {
        "id": "DeOyLOBxEa6T",
        "outputId": "9174fc35-85fd-432c-fc6e-63bb3dcb1d17",
        "colab": {
          "base_uri": "https://localhost:8080/"
        }
      },
      "execution_count": null,
      "outputs": [
        {
          "output_type": "stream",
          "name": "stdout",
          "text": [
            "hola\n"
          ]
        },
        {
          "output_type": "execute_result",
          "data": {
            "text/plain": [
              "str"
            ]
          },
          "metadata": {},
          "execution_count": 34
        }
      ]
    },
    {
      "cell_type": "markdown",
      "source": [
        "int() informa del tipo de variable que se espera recibir\n",
        "\n",
        "input() dice la variable se va a escribir por teclado"
      ],
      "metadata": {
        "id": "onpPtqnOEq-b"
      }
    },
    {
      "cell_type": "code",
      "source": [
        "# Escribe aquí tu código\n",
        "\n",
        "# Solicitamos información por pantalla\n",
        "# Usamos int o float o str o lo que queramos para que la variable que recibimos sea de ese tipo\n",
        "cantidad_inicial = int(input(\"Cantidad inicial: \"))\n",
        "tipo = float(input(\"Tipo de interés (en decimal): \"))\n",
        "annos = int(input(\"Años de interés: \"))\n",
        "\n",
        "# Fórmula de la inversión\n",
        "valor_inversion = cantidad_inicial + (cantidad_inicial*tipo*annos)\n",
        "\n",
        "# Calculamos la rentabilidad\n",
        "rentabilidad = valor_inversion - cantidad_inicial\n",
        "\n",
        "# Comprobamos si es rentable (los condicionales los veremos más adelante)\n",
        "if rentabilidad > 1200:\n",
        "  rentable = \"Rentable\"\n",
        "else:\n",
        "  rentable = \"No rentable\"\n",
        "\n",
        "print(f\"{rentable}\")"
      ],
      "metadata": {
        "id": "zYfSO1YZEtgb",
        "outputId": "74f451cb-3e7a-4cd9-d283-591ccd44489b",
        "colab": {
          "base_uri": "https://localhost:8080/"
        }
      },
      "execution_count": 6,
      "outputs": [
        {
          "output_type": "stream",
          "name": "stdout",
          "text": [
            "Cantidad inicial: 200\n",
            "Tipo de interés (en decimal): 1\n",
            "Años de interés: 10\n",
            "Rentable\n"
          ]
        }
      ]
    }
  ],
  "metadata": {
    "colab": {
      "provenance": [],
      "include_colab_link": true
    },
    "kernelspec": {
      "display_name": "Python 3.8.8 ('base')",
      "language": "python",
      "name": "python3"
    },
    "language_info": {
      "codemirror_mode": {
        "name": "ipython",
        "version": 3
      },
      "file_extension": ".py",
      "mimetype": "text/x-python",
      "name": "python",
      "nbconvert_exporter": "python",
      "pygments_lexer": "ipython3",
      "version": "3.10.3"
    },
    "orig_nbformat": 4,
    "vscode": {
      "interpreter": {
        "hash": "3a2a03ea413f8be244ba01daf0e257f98f0dabeb03c7836e7000a0f3738aa8c9"
      }
    }
  },
  "nbformat": 4,
  "nbformat_minor": 0
}